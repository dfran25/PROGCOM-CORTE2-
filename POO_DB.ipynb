{
  "nbformat": 4,
  "nbformat_minor": 0,
  "metadata": {
    "colab": {
      "provenance": [],
      "collapsed_sections": [],
      "include_colab_link": true
    },
    "kernelspec": {
      "name": "python3",
      "display_name": "Python 3"
    },
    "language_info": {
      "name": "python"
    }
  },
  "cells": [
    {
      "cell_type": "markdown",
      "metadata": {
        "id": "view-in-github",
        "colab_type": "text"
      },
      "source": [
        "<a href=\"https://colab.research.google.com/github/dfran25/PROGCOM-CORTE2-/blob/main/POO_DB.ipynb\" target=\"_parent\"><img src=\"https://colab.research.google.com/assets/colab-badge.svg\" alt=\"Open In Colab\"/></a>"
      ]
    },
    {
      "cell_type": "code",
      "execution_count": 1,
      "metadata": {
        "id": "Hj2bIpbcKE6-"
      },
      "outputs": [],
      "source": [
        "class Sayayin():\n",
        "  def __init__(self,nombre,cabello, ojos, fuerza, estatura,cola_de_mono):\n",
        "    self._cabello=\"negro\"\n",
        "    self._ojos=\"negro\"\n",
        "    self.__fuerza=fuerza\n",
        "    self._estatura=estatura\n",
        "    self._cola_de_mono=True\n",
        "    self._nombre=nombre\n",
        "  \n",
        "  def color_cabello(self,fuerza_base):\n",
        "    fuerza_t=90000\n",
        "    if fuerza_base*10>=fuerza_t:\n",
        "      print(\"Alcanza nivel sayayin fase 1\")\n",
        "      self.cabello=\"rubio\"\n",
        "    elif fuerza_base*20>=fuerza_t*20:\n",
        "      print(\"Alcanza nivel sayayin fase 2\")\n",
        "      self.cabello=\"rubio\"\n",
        "    elif fuerza_base*1000>=fuerza_t*1000:\n",
        "      print(\"Alcanza nivel sayayin fase 4\")\n",
        "      self.cabello=\"negro\"\n",
        "      if self.cola==False:\n",
        "        self.cola=True\n",
        "    else:\n",
        "      print(self.nombre,\" Alcanza nivel sayayin ultrainstinto\")\n",
        "      self.cabello=\"cenizo\"\n",
        "\n",
        "  def luna(self,luna):\n",
        "    if self.cola and luna==\"luna llena\":\n",
        "      print(self.nombre,\" se convierte en ozaru\")\n",
        "      self.fuerza=self.fuerza*50\n",
        "    else:\n",
        "      print(self.nombre, \" no se transforma en na':v\")\n",
        "\n",
        "  def trabajo(self,trabajo):\n",
        "    if trabajo==1:\n",
        "      print(f\"{self.nombre} es de tipo guerrero\")\n",
        "    elif trabajo==2:\n",
        "      print(f\"{self.nombre} es de tipo liendra de freezer\")\n",
        "    elif trabajo==3:\n",
        "      print(f\"{self.nombre} es de tipo mercenarios\")\n",
        "    else:\n",
        "      print(f\"{self.nombre} es de la realeza\")\n"
      ]
    },
    {
      "cell_type": "code",
      "source": [
        "class Humano():\n",
        "  def __init__(self,nombre,cabello, ojos, fuerza, estatura):\n",
        "    self.cabello=cabello\n",
        "    self.ojos=ojos\n",
        "    self.fuerza=fuerza\n",
        "    self.estatura=estatura\n",
        "    self.nombre=nombre\n",
        "  \n",
        "  def color_cabello(self,tinte):\n",
        "    if tinte==0:\n",
        "      print(self.nombre,\"ha decolorado su cabello\")\n",
        "      self.cabello=\"amarillo\"\n",
        "    elif tinte==2:\n",
        "      print(self.nombre,\"ha colorado su cabello de lila\")\n",
        "      self.cabello=\"lila\"\n",
        "    elif tinte==3:\n",
        "      print(self.nombre,\"ha colorado su cabello nuez\")\n",
        "      self.cabello=\"nuez\"\n",
        "    else:\n",
        "      print(self.nombre,\"ha colorado su cabello canoso\")\n",
        "      self.cabello=\"canoso\"\n",
        "\n",
        "  def trabajo2(self,trabajo):\n",
        "    if trabajo==1:\n",
        "      print(f\"{self.nombre} trabaja como callcenter\")\n",
        "    elif trabajo==2:\n",
        "      print(f\"{self.nombre} trabaja como vendedor de bonice\")\n",
        "    elif trabajo==3:\n",
        "      print(f\"{self.nombre} trabaja como tombo\")\n",
        "    elif trabajo==4:\n",
        "      print(f\"{self.nombre} trabaja como programador de python\")\n",
        "    else:\n",
        "      print(f\"{self.nombre} es nini\")"
      ],
      "metadata": {
        "id": "qeggkFyuN92s"
      },
      "execution_count": null,
      "outputs": []
    },
    {
      "cell_type": "code",
      "source": [
        "class Hibrido(Sayayin,Humano):\n",
        "  def __init__(self,trabajo):\n",
        "    #Sayayin.__init__(nombre,cabello, ojos, fuerza, estatura,cola_de_mono)\n",
        "    super()\n",
        "    self.trabajo=trabajo\n",
        "\n"
      ],
      "metadata": {
        "id": "F0Q5t1fQQcNQ"
      },
      "execution_count": null,
      "outputs": []
    },
    {
      "cell_type": "code",
      "source": [
        "goku=Sayayin(\"Kakaroto\",\"arcoíris\",\"verde-dorado\",100,50,True)\n",
        "goku.__dict__"
      ],
      "metadata": {
        "colab": {
          "base_uri": "https://localhost:8080/"
        },
        "id": "_QNemWinSloQ",
        "outputId": "1b687f6b-c883-4e3a-a0a1-477cab4feda2"
      },
      "execution_count": null,
      "outputs": [
        {
          "output_type": "execute_result",
          "data": {
            "text/plain": [
              "{'_cabello': 'negro',\n",
              " '_ojos': 'negro',\n",
              " '_Sayayin__fuerza': 100,\n",
              " '_estatura': 50,\n",
              " '_cola_de_mono': True,\n",
              " '_nombre': 'Kakaroto'}"
            ]
          },
          "metadata": {},
          "execution_count": 17
        }
      ]
    },
    {
      "cell_type": "code",
      "source": [
        "goku.__fuerza=500000"
      ],
      "metadata": {
        "id": "fu4B6Ci-UYsg"
      },
      "execution_count": null,
      "outputs": []
    },
    {
      "cell_type": "code",
      "source": [
        "goku.__dict__"
      ],
      "metadata": {
        "colab": {
          "base_uri": "https://localhost:8080/"
        },
        "id": "f1IKihW9UrKn",
        "outputId": "9a0af14b-ccc1-4962-bada-311c0f9c2895"
      },
      "execution_count": null,
      "outputs": [
        {
          "output_type": "execute_result",
          "data": {
            "text/plain": [
              "{'_cabello': 'negro',\n",
              " '_ojos': 'negro',\n",
              " '_Sayayin__fuerza': 100,\n",
              " '_estatura': 50,\n",
              " '_cola_de_mono': True,\n",
              " '_nombre': 'Kakaroto',\n",
              " '__fuerza': 500000}"
            ]
          },
          "metadata": {},
          "execution_count": 19
        }
      ]
    },
    {
      "cell_type": "code",
      "source": [
        "goku.ojos=\"azul\""
      ],
      "metadata": {
        "id": "1rw5Z2z0T-k8"
      },
      "execution_count": null,
      "outputs": []
    },
    {
      "cell_type": "code",
      "source": [
        "goku.color_cabello(10000)"
      ],
      "metadata": {
        "colab": {
          "base_uri": "https://localhost:8080/"
        },
        "id": "ziDRAXf2TjPg",
        "outputId": "b8112f1b-adc6-45d0-c250-751f8c8ab5b2"
      },
      "execution_count": null,
      "outputs": [
        {
          "output_type": "stream",
          "name": "stdout",
          "text": [
            "Alcanza nivel sayayin fase 1\n"
          ]
        }
      ]
    },
    {
      "cell_type": "code",
      "source": [
        "goku.__dict__"
      ],
      "metadata": {
        "colab": {
          "base_uri": "https://localhost:8080/"
        },
        "id": "1YnoTlvTT2Im",
        "outputId": "4a399cfe-d725-43d3-9ce4-36ad2867b882"
      },
      "execution_count": null,
      "outputs": [
        {
          "output_type": "execute_result",
          "data": {
            "text/plain": [
              "{'cabello': 'rubio',\n",
              " 'ojos': 'negro',\n",
              " 'fuerza': 100,\n",
              " 'estatura': 50,\n",
              " 'cola_de_mono': True,\n",
              " 'nombre': 'Kakaroto'}"
            ]
          },
          "metadata": {},
          "execution_count": 9
        }
      ]
    },
    {
      "cell_type": "code",
      "source": [
        "milk=Humano(\"Milk\",\"negros\",\"negro\",100,50)"
      ],
      "metadata": {
        "id": "_EY2SpxkTGUl"
      },
      "execution_count": null,
      "outputs": []
    },
    {
      "cell_type": "code",
      "source": [
        "gohan=Hibrido(\"Gohan\",\"negro\",\"aguamarina\",1000,50,True)"
      ],
      "metadata": {
        "id": "2i0W-oDvVOkV"
      },
      "execution_count": null,
      "outputs": []
    },
    {
      "cell_type": "code",
      "source": [
        "gohan."
      ],
      "metadata": {
        "colab": {
          "base_uri": "https://localhost:8080/"
        },
        "id": "Utr_Z8IuVmsq",
        "outputId": "4dc4618e-4068-4165-80cd-1ec89b0f2291"
      },
      "execution_count": null,
      "outputs": [
        {
          "output_type": "stream",
          "name": "stdout",
          "text": [
            "Gohan es de la realeza\n",
            "Gohan es de la realeza\n",
            "None\n"
          ]
        }
      ]
    },
    {
      "cell_type": "code",
      "source": [
        "print(\"Hola mundo\")"
      ],
      "metadata": {
        "colab": {
          "base_uri": "https://localhost:8080/"
        },
        "id": "S511plzAWfUu",
        "outputId": "93d258cc-b513-4da2-c8e7-7db3af9dbbd5"
      },
      "execution_count": null,
      "outputs": [
        {
          "output_type": "stream",
          "name": "stdout",
          "text": [
            "Hola mundo\n"
          ]
        }
      ]
    },
    {
      "cell_type": "code",
      "source": [
        "print(3)"
      ],
      "metadata": {
        "colab": {
          "base_uri": "https://localhost:8080/"
        },
        "id": "hx3KhhopWjY2",
        "outputId": "fbd01b12-7bed-416a-b847-bc4d4d7de918"
      },
      "execution_count": null,
      "outputs": [
        {
          "output_type": "stream",
          "name": "stdout",
          "text": [
            "3\n"
          ]
        }
      ]
    },
    {
      "cell_type": "code",
      "source": [
        "objeto={\"atún\":1000,\"pasta\":3000}\n",
        "objeto[\"atún\"]"
      ],
      "metadata": {
        "colab": {
          "base_uri": "https://localhost:8080/"
        },
        "id": "BxdikyubXxZZ",
        "outputId": "91ca0aa0-1736-497d-ab55-7ac93b9bc6e4"
      },
      "execution_count": null,
      "outputs": [
        {
          "output_type": "execute_result",
          "data": {
            "text/plain": [
              "1000"
            ]
          },
          "metadata": {},
          "execution_count": 32
        }
      ]
    },
    {
      "cell_type": "code",
      "source": [
        "for x in objeto.items():\n",
        "  print(x)"
      ],
      "metadata": {
        "colab": {
          "base_uri": "https://localhost:8080/"
        },
        "id": "BJZA-8EdYcgQ",
        "outputId": "59ca6bc2-3019-451f-f0a5-4f186ac0ee64"
      },
      "execution_count": null,
      "outputs": [
        {
          "output_type": "stream",
          "name": "stdout",
          "text": [
            "('atún', 1000)\n",
            "('pasta', 3000)\n"
          ]
        }
      ]
    },
    {
      "cell_type": "code",
      "source": [
        "class Agregar(list):\n",
        "  print (\"Agregando elementos al carrito\")"
      ],
      "metadata": {
        "colab": {
          "base_uri": "https://localhost:8080/"
        },
        "id": "DMukMoEZXXZD",
        "outputId": "07d0830f-8d95-4091-f738-1b193f6af312"
      },
      "execution_count": null,
      "outputs": [
        {
          "output_type": "stream",
          "name": "stdout",
          "text": [
            "Agregando elementos al carrito\n"
          ]
        }
      ]
    },
    {
      "cell_type": "code",
      "source": [
        "a=Agregar()\n"
      ],
      "metadata": {
        "id": "ORv2hN1XXgqL"
      },
      "execution_count": null,
      "outputs": []
    },
    {
      "cell_type": "code",
      "source": [
        "a"
      ],
      "metadata": {
        "colab": {
          "base_uri": "https://localhost:8080/"
        },
        "id": "8Fa_mtLFXkEC",
        "outputId": "207cbc4a-b45c-45f2-8e44-7e6a68482563"
      },
      "execution_count": null,
      "outputs": [
        {
          "output_type": "execute_result",
          "data": {
            "text/plain": [
              "[]"
            ]
          },
          "metadata": {},
          "execution_count": 31
        }
      ]
    }
  ]
}