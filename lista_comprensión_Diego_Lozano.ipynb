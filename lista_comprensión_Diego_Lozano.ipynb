{
  "nbformat": 4,
  "nbformat_minor": 0,
  "metadata": {
    "colab": {
      "provenance": [],
      "authorship_tag": "ABX9TyO4O4YBnJAN+KYCBAqPgk5K",
      "include_colab_link": true
    },
    "kernelspec": {
      "name": "python3",
      "display_name": "Python 3"
    },
    "language_info": {
      "name": "python"
    }
  },
  "cells": [
    {
      "cell_type": "markdown",
      "metadata": {
        "id": "view-in-github",
        "colab_type": "text"
      },
      "source": [
        "<a href=\"https://colab.research.google.com/github/dfran25/PROGCOM-CORTE2-/blob/main/lista_comprensi%C3%B3n_Diego_Lozano.ipynb\" target=\"_parent\"><img src=\"https://colab.research.google.com/assets/colab-badge.svg\" alt=\"Open In Colab\"/></a>"
      ]
    },
    {
      "cell_type": "code",
      "execution_count": 3,
      "metadata": {
        "id": "7mDXI_DnvjfR"
      },
      "outputs": [],
      "source": [
        "def precio():\n",
        "  di1={'milk':0.75,'meat':10.69,'eggs':2.14,'bread':1.07}\n",
        "  di2={x:y*1.19 for (x,y) in di1.items()}\n",
        "  print(f'El precio sin IVA de los productos es: {di1}')\n",
        "  print('-='*19)\n",
        "  print(f'El precio con IVA de los productos es: {di2}')"
      ]
    },
    {
      "cell_type": "code",
      "source": [
        "precio()"
      ],
      "metadata": {
        "colab": {
          "base_uri": "https://localhost:8080/"
        },
        "id": "45ijP34IvrrD",
        "outputId": "58c50810-1ca0-4d78-8312-d5b6b3f12dee"
      },
      "execution_count": 4,
      "outputs": [
        {
          "output_type": "stream",
          "name": "stdout",
          "text": [
            "El precio sin IVA de los productos es: {'milk': 0.75, 'meat': 10.69, 'eggs': 2.14, 'bread': 1.07}\n",
            "-=-=-=-=-=-=-=-=-=-=-=-=-=-=-=-=-=-=-=\n",
            "El precio con IVA de los productos es: {'milk': 0.8925, 'meat': 12.721099999999998, 'eggs': 2.5466, 'bread': 1.2733}\n"
          ]
        }
      ]
    },
    {
      "cell_type": "code",
      "source": [
        "def ejer():\n",
        "  dict={}\n",
        "  m=int(input(\"Ingrese la cantidad de productos\"))\n",
        "  for i in range (0,m):\n",
        "    if i%1==0:\n",
        "      dict[i]=str(input(\"Ingrese el valor del producto\"))\n",
        "  print(dict)"
      ],
      "metadata": {
        "id": "jWW-LGEgxkNy"
      },
      "execution_count": 72,
      "outputs": []
    },
    {
      "cell_type": "code",
      "source": [
        "ejer()\n"
      ],
      "metadata": {
        "colab": {
          "base_uri": "https://localhost:8080/"
        },
        "id": "n0Xud78AyHvQ",
        "outputId": "ac27651e-5e92-42ef-bd4a-e197ae881b7e"
      },
      "execution_count": 71,
      "outputs": [
        {
          "output_type": "stream",
          "name": "stdout",
          "text": [
            "Ingrese la cantidad de productos3\n",
            "Ingrese el valor del producto20\n",
            "Ingrese el valor del producto50\n",
            "Ingrese el valor del producto60\n",
            "{0: '20', 1: '50', 2: '60'}\n"
          ]
        }
      ]
    },
    {
      "cell_type": "code",
      "source": [],
      "metadata": {
        "id": "spFOsgklAOw2"
      },
      "execution_count": null,
      "outputs": []
    },
    {
      "cell_type": "code",
      "source": [
        "def dic1(n,m):   \n",
        "  dic1={x:x**2 for x in range (n,m) if x%2==0}\n",
        "  print(dic1)"
      ],
      "metadata": {
        "id": "TZ-MvNg_z0wb"
      },
      "execution_count": 49,
      "outputs": []
    },
    {
      "cell_type": "code",
      "source": [
        "dic1(0,10)"
      ],
      "metadata": {
        "colab": {
          "base_uri": "https://localhost:8080/"
        },
        "id": "LgOF4erw2Dbg",
        "outputId": "84c1fdb7-65e8-4f2c-9874-982775694783"
      },
      "execution_count": 50,
      "outputs": [
        {
          "output_type": "stream",
          "name": "stdout",
          "text": [
            "{0: 0, 2: 4, 4: 16, 6: 36, 8: 64}\n"
          ]
        }
      ]
    },
    {
      "cell_type": "code",
      "source": [
        "def ejerv2(n,m):\n",
        "  dict={}\n",
        "  for i in range(n,m):\n",
        "    if i%1==0:\n",
        "      dict[i]==i**2\n",
        "  print(dict)"
      ],
      "metadata": {
        "id": "9bv3hAqR0g1q"
      },
      "execution_count": 47,
      "outputs": []
    },
    {
      "cell_type": "code",
      "source": [
        "numeros=[n*2 for n in range(1,9)]\n",
        "print(numeros)\n",
        "##cuando sale un append no es mutable."
      ],
      "metadata": {
        "colab": {
          "base_uri": "https://localhost:8080/"
        },
        "id": "80DTZir688qa",
        "outputId": "b7c4c863-005c-4112-d914-0ed21a0129b0"
      },
      "execution_count": 64,
      "outputs": [
        {
          "output_type": "stream",
          "name": "stdout",
          "text": [
            "[2, 4, 6, 8, 10, 12, 14, 16]\n"
          ]
        }
      ]
    },
    {
      "cell_type": "code",
      "source": [
        "cadenas=[\"*\" * n for n in range(1,6)]\n",
        "print(cadenas)"
      ],
      "metadata": {
        "colab": {
          "base_uri": "https://localhost:8080/"
        },
        "id": "q3AkCDuFAhXb",
        "outputId": "b4b415a8-9f08-4fd0-8ba7-ab03d800eb24"
      },
      "execution_count": 84,
      "outputs": [
        {
          "output_type": "stream",
          "name": "stdout",
          "text": [
            "['*', '**', '***', '****', '*****']\n"
          ]
        }
      ]
    },
    {
      "cell_type": "code",
      "source": [
        "#samuel\n",
        "x=input(\"ingrese la palabrar que desea-: \")\n",
        "lista=[n for n in x]\n",
        "print(lista)"
      ],
      "metadata": {
        "colab": {
          "base_uri": "https://localhost:8080/"
        },
        "id": "ZB7UlMemCYpD",
        "outputId": "128c3f5f-b361-4121-c9b3-4e18e5fcae2f"
      },
      "execution_count": 85,
      "outputs": [
        {
          "output_type": "stream",
          "name": "stdout",
          "text": [
            "ingrese la palabrar que desea-: listo\n",
            "['l', 'i', 's', 't', 'o']\n"
          ]
        }
      ]
    },
    {
      "cell_type": "code",
      "source": [
        "#amado\n",
        "lista=[2,7,10,9,8]\n",
        "lista1=[elementos**2 for elementos in lista if elementos%==0]\n",
        "print(\"nueva lista\",lista1)\n"
      ],
      "metadata": {
        "id": "kBVTP_ucC19X"
      },
      "execution_count": null,
      "outputs": []
    },
    {
      "cell_type": "code",
      "source": [
        "#ivan\n",
        "import random\n",
        "capitan=[random.randrange(1,30)for i in range(9)] #hace numeros aleatorios en un rango\n",
        "print(\"Imprimir numeros aleatorios de la lista!\" , str(capitan))"
      ],
      "metadata": {
        "colab": {
          "base_uri": "https://localhost:8080/"
        },
        "id": "m7O7KxUPEB-Z",
        "outputId": "acb61e9a-f9c7-41f0-b762-49b5c8d488a2"
      },
      "execution_count": 86,
      "outputs": [
        {
          "output_type": "stream",
          "name": "stdout",
          "text": [
            "Imprimir numeros aleatorios de la lista! [16, 11, 10, 7, 3, 28, 6, 1, 1]\n"
          ]
        }
      ]
    },
    {
      "cell_type": "code",
      "source": [
        "#juan pablo\n",
        "precios=[]\n",
        "print(\"ingrese los numeros de los que quieres hacer un descuento\")\n",
        "det=True\n",
        "while det:\n",
        "  num=int(input(\"Si no desea agregar mas numeros digite\"))\n",
        "  precios.append(num)\n",
        "  det = false if num==0 else num>0\n",
        "des=float(input(print(\"INGRESE EL DESCUENTO\")))\n",
        "presdes=[precio*des/100 for precio in precios]\n",
        "presdes.pop(-1)\n",
        "print(\"Este es el valor que le deben resta a cada numero\")"
      ],
      "metadata": {
        "colab": {
          "base_uri": "https://localhost:8080/",
          "height": 467
        },
        "id": "01TvGiGuE5H0",
        "outputId": "10761c27-79a7-4b88-a1a1-03cc9eaf2174"
      },
      "execution_count": 87,
      "outputs": [
        {
          "name": "stdout",
          "output_type": "stream",
          "text": [
            "ingrese los numeros de los que quieres hacer un descuento\n",
            "Si no desea agregar mas numeros digite1\n",
            "Si no desea agregar mas numeros digite5\n",
            "Si no desea agregar mas numeros digite6\n",
            "Si no desea agregar mas numeros digite55\n"
          ]
        },
        {
          "output_type": "error",
          "ename": "KeyboardInterrupt",
          "evalue": "ignored",
          "traceback": [
            "\u001b[0;31m---------------------------------------------------------------------------\u001b[0m",
            "\u001b[0;31mKeyboardInterrupt\u001b[0m                         Traceback (most recent call last)",
            "\u001b[0;32m<ipython-input-87-a5a7e13545d3>\u001b[0m in \u001b[0;36m<module>\u001b[0;34m\u001b[0m\n\u001b[1;32m      4\u001b[0m \u001b[0mdet\u001b[0m\u001b[0;34m=\u001b[0m\u001b[0;32mTrue\u001b[0m\u001b[0;34m\u001b[0m\u001b[0;34m\u001b[0m\u001b[0m\n\u001b[1;32m      5\u001b[0m \u001b[0;32mwhile\u001b[0m \u001b[0mdet\u001b[0m\u001b[0;34m:\u001b[0m\u001b[0;34m\u001b[0m\u001b[0;34m\u001b[0m\u001b[0m\n\u001b[0;32m----> 6\u001b[0;31m   \u001b[0mnum\u001b[0m\u001b[0;34m=\u001b[0m\u001b[0mint\u001b[0m\u001b[0;34m(\u001b[0m\u001b[0minput\u001b[0m\u001b[0;34m(\u001b[0m\u001b[0;34m\"Si no desea agregar mas numeros digite\"\u001b[0m\u001b[0;34m)\u001b[0m\u001b[0;34m)\u001b[0m\u001b[0;34m\u001b[0m\u001b[0;34m\u001b[0m\u001b[0m\n\u001b[0m\u001b[1;32m      7\u001b[0m   \u001b[0mprecios\u001b[0m\u001b[0;34m.\u001b[0m\u001b[0mappend\u001b[0m\u001b[0;34m(\u001b[0m\u001b[0mnum\u001b[0m\u001b[0;34m)\u001b[0m\u001b[0;34m\u001b[0m\u001b[0;34m\u001b[0m\u001b[0m\n\u001b[1;32m      8\u001b[0m   \u001b[0mdet\u001b[0m \u001b[0;34m=\u001b[0m \u001b[0mfalse\u001b[0m \u001b[0;32mif\u001b[0m \u001b[0mnum\u001b[0m\u001b[0;34m==\u001b[0m\u001b[0;36m0\u001b[0m \u001b[0;32melse\u001b[0m \u001b[0mnum\u001b[0m\u001b[0;34m>\u001b[0m\u001b[0;36m0\u001b[0m\u001b[0;34m\u001b[0m\u001b[0;34m\u001b[0m\u001b[0m\n",
            "\u001b[0;32m/usr/local/lib/python3.7/dist-packages/ipykernel/kernelbase.py\u001b[0m in \u001b[0;36mraw_input\u001b[0;34m(self, prompt)\u001b[0m\n\u001b[1;32m    861\u001b[0m             \u001b[0mself\u001b[0m\u001b[0;34m.\u001b[0m\u001b[0m_parent_ident\u001b[0m\u001b[0;34m,\u001b[0m\u001b[0;34m\u001b[0m\u001b[0;34m\u001b[0m\u001b[0m\n\u001b[1;32m    862\u001b[0m             \u001b[0mself\u001b[0m\u001b[0;34m.\u001b[0m\u001b[0m_parent_header\u001b[0m\u001b[0;34m,\u001b[0m\u001b[0;34m\u001b[0m\u001b[0;34m\u001b[0m\u001b[0m\n\u001b[0;32m--> 863\u001b[0;31m             \u001b[0mpassword\u001b[0m\u001b[0;34m=\u001b[0m\u001b[0;32mFalse\u001b[0m\u001b[0;34m,\u001b[0m\u001b[0;34m\u001b[0m\u001b[0;34m\u001b[0m\u001b[0m\n\u001b[0m\u001b[1;32m    864\u001b[0m         )\n\u001b[1;32m    865\u001b[0m \u001b[0;34m\u001b[0m\u001b[0m\n",
            "\u001b[0;32m/usr/local/lib/python3.7/dist-packages/ipykernel/kernelbase.py\u001b[0m in \u001b[0;36m_input_request\u001b[0;34m(self, prompt, ident, parent, password)\u001b[0m\n\u001b[1;32m    902\u001b[0m             \u001b[0;32mexcept\u001b[0m \u001b[0mKeyboardInterrupt\u001b[0m\u001b[0;34m:\u001b[0m\u001b[0;34m\u001b[0m\u001b[0;34m\u001b[0m\u001b[0m\n\u001b[1;32m    903\u001b[0m                 \u001b[0;31m# re-raise KeyboardInterrupt, to truncate traceback\u001b[0m\u001b[0;34m\u001b[0m\u001b[0;34m\u001b[0m\u001b[0;34m\u001b[0m\u001b[0m\n\u001b[0;32m--> 904\u001b[0;31m                 \u001b[0;32mraise\u001b[0m \u001b[0mKeyboardInterrupt\u001b[0m\u001b[0;34m(\u001b[0m\u001b[0;34m\"Interrupted by user\"\u001b[0m\u001b[0;34m)\u001b[0m \u001b[0;32mfrom\u001b[0m \u001b[0;32mNone\u001b[0m\u001b[0;34m\u001b[0m\u001b[0;34m\u001b[0m\u001b[0m\n\u001b[0m\u001b[1;32m    905\u001b[0m             \u001b[0;32mexcept\u001b[0m \u001b[0mException\u001b[0m \u001b[0;32mas\u001b[0m \u001b[0me\u001b[0m\u001b[0;34m:\u001b[0m\u001b[0;34m\u001b[0m\u001b[0;34m\u001b[0m\u001b[0m\n\u001b[1;32m    906\u001b[0m                 \u001b[0mself\u001b[0m\u001b[0;34m.\u001b[0m\u001b[0mlog\u001b[0m\u001b[0;34m.\u001b[0m\u001b[0mwarning\u001b[0m\u001b[0;34m(\u001b[0m\u001b[0;34m\"Invalid Message:\"\u001b[0m\u001b[0;34m,\u001b[0m \u001b[0mexc_info\u001b[0m\u001b[0;34m=\u001b[0m\u001b[0;32mTrue\u001b[0m\u001b[0;34m)\u001b[0m\u001b[0;34m\u001b[0m\u001b[0;34m\u001b[0m\u001b[0m\n",
            "\u001b[0;31mKeyboardInterrupt\u001b[0m: Interrupted by user"
          ]
        }
      ]
    },
    {
      "cell_type": "code",
      "source": [
        "#cristian\n",
        "num=[]\n",
        "for i in range (6):\n",
        "  num.append(int(input(\"introduce el numero ganador\")))\n",
        "num.sort()\n",
        "print(\"los numeros ganadores del baloto son :\" , str(num))"
      ],
      "metadata": {
        "colab": {
          "base_uri": "https://localhost:8080/"
        },
        "id": "UKGO_NAhHbse",
        "outputId": "e67f383a-a172-4c69-ef16-28413d7b266e"
      },
      "execution_count": 88,
      "outputs": [
        {
          "output_type": "stream",
          "name": "stdout",
          "text": [
            "introduce el numero ganador5\n",
            "introduce el numero ganador45\n",
            "introduce el numero ganador74\n",
            "introduce el numero ganador56\n",
            "introduce el numero ganador6\n",
            "introduce el numero ganador5\n",
            "los numeros ganadores del baloto son : [5, 5, 6, 45, 56, 74]\n"
          ]
        }
      ]
    }
  ]
}