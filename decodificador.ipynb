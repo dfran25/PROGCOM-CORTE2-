{
  "nbformat": 4,
  "nbformat_minor": 0,
  "metadata": {
    "colab": {
      "provenance": [],
      "authorship_tag": "ABX9TyNboJVeUc+cIINBu7oC8KUK",
      "include_colab_link": true
    },
    "kernelspec": {
      "name": "python3",
      "display_name": "Python 3"
    },
    "language_info": {
      "name": "python"
    }
  },
  "cells": [
    {
      "cell_type": "markdown",
      "metadata": {
        "id": "view-in-github",
        "colab_type": "text"
      },
      "source": [
        "<a href=\"https://colab.research.google.com/github/dfran25/PROGCOM-CORTE2-/blob/main/decodificador.ipynb\" target=\"_parent\"><img src=\"https://colab.research.google.com/assets/colab-badge.svg\" alt=\"Open In Colab\"/></a>"
      ]
    },
    {
      "cell_type": "code",
      "execution_count": 2,
      "metadata": {
        "colab": {
          "base_uri": "https://localhost:8080/"
        },
        "id": "qhX6WQ32Sb-Q",
        "outputId": "6493f44b-6cdc-4672-b4d8-2229c1b98832"
      },
      "outputs": [
        {
          "output_type": "stream",
          "name": "stdout",
          "text": [
            "Escribe la palabra para decodificar: orsa? peoci camco\n",
            "donde queda esto?\n"
          ]
        }
      ],
      "source": [
        "vocal=[\"a\",\"e\",\"i\",\"o\",\"u\"] ##decodificador\n",
        "consonante=[\"b\",\"c\",\"d\",\"f\",\"g\",\"h\",\"j\",\"k\",\"l\",\"m\",\"n\",\"ñ\",\"p\",\"q\",\"r\",\"s\",\"t\",\"v\",\"w\",\"x\",\"y\",\"z\"]\n",
        "vocal_t=[\"á\",\"é\",\"í\",\"ó\",\"ú\"]\n",
        "\n",
        "n=input(\"Escribe la palabra para decodificar: \")\n",
        "n=n.lower()\n",
        "r=[]\n",
        "for i in range(len(n)):\n",
        "  if n[i] in vocal:\n",
        "    x=0\n",
        "    x=vocal.index(n[i])\n",
        "    x-=2\n",
        "    if x==5:\n",
        "      r.append(\"o\")\n",
        "    elif x==6:\n",
        "      r.append(\"u\")\n",
        "    else:\n",
        "      r.append(vocal[x])\n",
        "  elif n[i] in vocal_t:\n",
        "    x=0\n",
        "    x=vocal_t.index(n[i])\n",
        "    x-=2\n",
        "    if x==5:\n",
        "      r.append(\"ó\")\n",
        "    elif x==6:\n",
        "      r.append(\"ú\")\n",
        "    else:\n",
        "      r.append(vocal_t[x])\n",
        "  elif n[i] in consonante:\n",
        "    x=0\n",
        "    x=consonante.index(n[i])\n",
        "    x+=1\n",
        "    if x==22:\n",
        "        r.append(\"b\")\n",
        "    else:\n",
        "        r.append(consonante[x])\n",
        "  else:\n",
        "    r.append(n[i])\n",
        "frase=\"\".join(r)\n",
        "frase2=frase.split()\n",
        "frase2=frase2[::-1]\n",
        "frase2=\" \".join(frase2)\n",
        "print(frase2)"
      ]
    },
    {
      "cell_type": "code",
      "source": [
        "##NPC\n",
        "vocal=[\"a\",\"e\",\"i\",\"o\",\"u\"]\n",
        "consonante=[\"b\",\"c\",\"d\",\"f\",\"g\",\"h\",\"j\",\"k\",\"l\",\"m\",\"n\",\"ñ\",\"p\",\"q\",\"r\",\"s\",\"t\",\"v\",\"w\",\"x\",\"y\",\"z\"]\n",
        "vocal_t=[\"á\",\"é\",\"í\",\"ó\",\"ú\"]\n",
        "\n",
        "n=input(\"Escribe la palabra para codificar: \")\n",
        "n=n.lower()\n",
        "r=[]\n",
        "for i in range(len(n)):\n",
        "  if n[i] in vocal:\n",
        "    x=0\n",
        "    x=vocal.index(n[i])\n",
        "    x+=2\n",
        "    if x==5:\n",
        "      r.append(\"a\")\n",
        "    elif x==6:\n",
        "      r.append(\"e\")\n",
        "    else:\n",
        "      r.append(vocal[x])\n",
        "  elif n[i] in vocal_t:\n",
        "    x=0\n",
        "    x=vocal_t.index(n[i])\n",
        "    x+=2\n",
        "    if x==5:\n",
        "      r.append(\"á\")\n",
        "    elif x==6:\n",
        "      r.append(\"é\")\n",
        "    else:\n",
        "      r.append(vocal_t[x])\n",
        "  elif n[i] in consonante:\n",
        "    x=0\n",
        "    x=consonante.index(n[i])\n",
        "    x-=1\n",
        "    r.append(consonante[x])\n",
        "  else:\n",
        "    r.append(n[i])\n",
        "frase=\"\".join(r)\n",
        "frase2=frase.split()\n",
        "frase2=frase2[::-1]\n",
        "frase2=\" \".join(frase2)\n",
        "print(frase2)\n",
        "print(frase)\n",
        "print(r)"
      ],
      "metadata": {
        "colab": {
          "base_uri": "https://localhost:8080/",
          "height": 380
        },
        "id": "c43djMF0Trj1",
        "outputId": "46e6b536-f472-4d04-d14a-44fe0f97744b"
      },
      "execution_count": 1,
      "outputs": [
        {
          "output_type": "error",
          "ename": "KeyboardInterrupt",
          "evalue": "ignored",
          "traceback": [
            "\u001b[0;31m---------------------------------------------------------------------------\u001b[0m",
            "\u001b[0;31mKeyboardInterrupt\u001b[0m                         Traceback (most recent call last)",
            "\u001b[0;32m<ipython-input-1-77431f90d1c6>\u001b[0m in \u001b[0;36m<module>\u001b[0;34m\u001b[0m\n\u001b[1;32m      4\u001b[0m \u001b[0mvocal_t\u001b[0m\u001b[0;34m=\u001b[0m\u001b[0;34m[\u001b[0m\u001b[0;34m\"á\"\u001b[0m\u001b[0;34m,\u001b[0m\u001b[0;34m\"é\"\u001b[0m\u001b[0;34m,\u001b[0m\u001b[0;34m\"í\"\u001b[0m\u001b[0;34m,\u001b[0m\u001b[0;34m\"ó\"\u001b[0m\u001b[0;34m,\u001b[0m\u001b[0;34m\"ú\"\u001b[0m\u001b[0;34m]\u001b[0m\u001b[0;34m\u001b[0m\u001b[0;34m\u001b[0m\u001b[0m\n\u001b[1;32m      5\u001b[0m \u001b[0;34m\u001b[0m\u001b[0m\n\u001b[0;32m----> 6\u001b[0;31m \u001b[0mn\u001b[0m\u001b[0;34m=\u001b[0m\u001b[0minput\u001b[0m\u001b[0;34m(\u001b[0m\u001b[0;34m\"Escribe la palabra para codificar: \"\u001b[0m\u001b[0;34m)\u001b[0m\u001b[0;34m\u001b[0m\u001b[0;34m\u001b[0m\u001b[0m\n\u001b[0m\u001b[1;32m      7\u001b[0m \u001b[0mn\u001b[0m\u001b[0;34m=\u001b[0m\u001b[0mn\u001b[0m\u001b[0;34m.\u001b[0m\u001b[0mlower\u001b[0m\u001b[0;34m(\u001b[0m\u001b[0;34m)\u001b[0m\u001b[0;34m\u001b[0m\u001b[0;34m\u001b[0m\u001b[0m\n\u001b[1;32m      8\u001b[0m \u001b[0mr\u001b[0m\u001b[0;34m=\u001b[0m\u001b[0;34m[\u001b[0m\u001b[0;34m]\u001b[0m\u001b[0;34m\u001b[0m\u001b[0;34m\u001b[0m\u001b[0m\n",
            "\u001b[0;32m/usr/local/lib/python3.7/dist-packages/ipykernel/kernelbase.py\u001b[0m in \u001b[0;36mraw_input\u001b[0;34m(self, prompt)\u001b[0m\n\u001b[1;32m    861\u001b[0m             \u001b[0mself\u001b[0m\u001b[0;34m.\u001b[0m\u001b[0m_parent_ident\u001b[0m\u001b[0;34m,\u001b[0m\u001b[0;34m\u001b[0m\u001b[0;34m\u001b[0m\u001b[0m\n\u001b[1;32m    862\u001b[0m             \u001b[0mself\u001b[0m\u001b[0;34m.\u001b[0m\u001b[0m_parent_header\u001b[0m\u001b[0;34m,\u001b[0m\u001b[0;34m\u001b[0m\u001b[0;34m\u001b[0m\u001b[0m\n\u001b[0;32m--> 863\u001b[0;31m             \u001b[0mpassword\u001b[0m\u001b[0;34m=\u001b[0m\u001b[0;32mFalse\u001b[0m\u001b[0;34m,\u001b[0m\u001b[0;34m\u001b[0m\u001b[0;34m\u001b[0m\u001b[0m\n\u001b[0m\u001b[1;32m    864\u001b[0m         )\n\u001b[1;32m    865\u001b[0m \u001b[0;34m\u001b[0m\u001b[0m\n",
            "\u001b[0;32m/usr/local/lib/python3.7/dist-packages/ipykernel/kernelbase.py\u001b[0m in \u001b[0;36m_input_request\u001b[0;34m(self, prompt, ident, parent, password)\u001b[0m\n\u001b[1;32m    902\u001b[0m             \u001b[0;32mexcept\u001b[0m \u001b[0mKeyboardInterrupt\u001b[0m\u001b[0;34m:\u001b[0m\u001b[0;34m\u001b[0m\u001b[0;34m\u001b[0m\u001b[0m\n\u001b[1;32m    903\u001b[0m                 \u001b[0;31m# re-raise KeyboardInterrupt, to truncate traceback\u001b[0m\u001b[0;34m\u001b[0m\u001b[0;34m\u001b[0m\u001b[0;34m\u001b[0m\u001b[0m\n\u001b[0;32m--> 904\u001b[0;31m                 \u001b[0;32mraise\u001b[0m \u001b[0mKeyboardInterrupt\u001b[0m\u001b[0;34m(\u001b[0m\u001b[0;34m\"Interrupted by user\"\u001b[0m\u001b[0;34m)\u001b[0m \u001b[0;32mfrom\u001b[0m \u001b[0;32mNone\u001b[0m\u001b[0;34m\u001b[0m\u001b[0;34m\u001b[0m\u001b[0m\n\u001b[0m\u001b[1;32m    905\u001b[0m             \u001b[0;32mexcept\u001b[0m \u001b[0mException\u001b[0m \u001b[0;32mas\u001b[0m \u001b[0me\u001b[0m\u001b[0;34m:\u001b[0m\u001b[0;34m\u001b[0m\u001b[0;34m\u001b[0m\u001b[0m\n\u001b[1;32m    906\u001b[0m                 \u001b[0mself\u001b[0m\u001b[0;34m.\u001b[0m\u001b[0mlog\u001b[0m\u001b[0;34m.\u001b[0m\u001b[0mwarning\u001b[0m\u001b[0;34m(\u001b[0m\u001b[0;34m\"Invalid Message:\"\u001b[0m\u001b[0;34m,\u001b[0m \u001b[0mexc_info\u001b[0m\u001b[0;34m=\u001b[0m\u001b[0;32mTrue\u001b[0m\u001b[0;34m)\u001b[0m\u001b[0;34m\u001b[0m\u001b[0;34m\u001b[0m\u001b[0m\n",
            "\u001b[0;31mKeyboardInterrupt\u001b[0m: Interrupted by user"
          ]
        }
      ]
    }
  ]
}