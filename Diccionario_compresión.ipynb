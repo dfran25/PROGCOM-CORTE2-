{
  "nbformat": 4,
  "nbformat_minor": 0,
  "metadata": {
    "colab": {
      "provenance": [],
      "authorship_tag": "ABX9TyO33+nrWfT8K1wbIHhIoMLM",
      "include_colab_link": true
    },
    "kernelspec": {
      "name": "python3",
      "display_name": "Python 3"
    },
    "language_info": {
      "name": "python"
    }
  },
  "cells": [
    {
      "cell_type": "markdown",
      "metadata": {
        "id": "view-in-github",
        "colab_type": "text"
      },
      "source": [
        "<a href=\"https://colab.research.google.com/github/dfran25/PROGCOM-CORTE2-/blob/main/Diccionario_compresi%C3%B3n.ipynb\" target=\"_parent\"><img src=\"https://colab.research.google.com/assets/colab-badge.svg\" alt=\"Open In Colab\"/></a>"
      ]
    },
    {
      "cell_type": "code",
      "execution_count": null,
      "metadata": {
        "id": "fC48yzaHJYW7"
      },
      "outputs": [],
      "source": [
        "def precio():\n",
        "  di1={'milk':0.75,'meat':10.69,'eggs':2.14,'bread':1.07}\n",
        "  di2={x:y*1.19 for (x,y) in di1.items()}\n",
        "  print(f'El precio sin IVA de los productos es: {di1}')\n",
        "  print('-='*19)\n",
        "  print(f'El precio con IVA de los productos es: {di2}')"
      ]
    },
    {
      "cell_type": "code",
      "source": [
        "def ejer():\n",
        "  dict={}\n",
        "  m=int(input(\"Ingrese la cantidad de productos\"))\n",
        "  for i in range (0,m):\n",
        "    if i%1==0:\n",
        "      dict[i]=str(input(\"Ingrese el valor del producto\"))\n",
        "  print(dict)"
      ],
      "metadata": {
        "id": "GSST7FNEJcuv"
      },
      "execution_count": null,
      "outputs": []
    },
    {
      "cell_type": "code",
      "source": [
        "def dic1(n,m):   \n",
        "  dic1={x:x**2 for x in range (n,m) if x%2==0}\n",
        "  print(dic1)"
      ],
      "metadata": {
        "id": "Z3J3M-eIJjeb"
      },
      "execution_count": null,
      "outputs": []
    },
    {
      "cell_type": "code",
      "source": [
        "def ejer():\n",
        "  dict={}\n",
        "  m=int(input(\"Ingrese la cantidad de productos\"))\n",
        "  for i in range (0,m):\n",
        "    if i%1==0:\n",
        "      dict[i]=str(input(\"Ingrese el valor del producto\"))\n",
        "  print(dict)"
      ],
      "metadata": {
        "id": "RattZaasJkP1"
      },
      "execution_count": null,
      "outputs": []
    }
  ]
}