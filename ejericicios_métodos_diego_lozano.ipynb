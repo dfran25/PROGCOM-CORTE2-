{
  "nbformat": 4,
  "nbformat_minor": 0,
  "metadata": {
    "colab": {
      "provenance": [],
      "collapsed_sections": [],
      "authorship_tag": "ABX9TyPMKI/cKqKDRzWzw3Ceopud",
      "include_colab_link": true
    },
    "kernelspec": {
      "name": "python3",
      "display_name": "Python 3"
    },
    "language_info": {
      "name": "python"
    }
  },
  "cells": [
    {
      "cell_type": "markdown",
      "metadata": {
        "id": "view-in-github",
        "colab_type": "text"
      },
      "source": [
        "<a href=\"https://colab.research.google.com/github/dfran25/PROGCOM-CORTE2-/blob/main/ejericicios_m%C3%A9todos_diego_lozano.ipynb\" target=\"_parent\"><img src=\"https://colab.research.google.com/assets/colab-badge.svg\" alt=\"Open In Colab\"/></a>"
      ]
    },
    {
      "cell_type": "code",
      "execution_count": null,
      "metadata": {
        "id": "HVJE_gfJlOXZ"
      },
      "outputs": [],
      "source": [
        "def mayordos(a,b):\n",
        "  if a>b:\n",
        "    print(f\" {a} es el mayor\")\n",
        "  else:\n",
        "    print(b,\"es el mayor\")\n"
      ]
    },
    {
      "cell_type": "code",
      "source": [
        "mayordos(4,5)"
      ],
      "metadata": {
        "colab": {
          "base_uri": "https://localhost:8080/"
        },
        "id": "ifh0yHWpncy_",
        "outputId": "7e6f6ce2-d9ec-45fe-d892-62bfbf764e8b"
      },
      "execution_count": null,
      "outputs": [
        {
          "output_type": "stream",
          "name": "stdout",
          "text": [
            "5 es el mayor\n"
          ]
        }
      ]
    },
    {
      "cell_type": "code",
      "source": [
        "def mayortres(a,b,c):\n",
        "  if a>b and a>c:\n",
        "    print(f\" {a} es el mayor\")\n",
        "    if b>c:\n",
        "      print(f\" {b} es el numero del medio y {c} es el menor\")\n",
        "    else:\n",
        "      print(f\"{c} es el numero del medio y {b} es el menor\")\n",
        "  elif b>c and b>c:\n",
        "    print(f\"{b} es el mayor\")\n",
        "    if a>c:\n",
        "      print(f\" {a} es el del medio y {c}\")\n",
        "    else:\n",
        "      print(f\" {c} es el del medio y {a} es el menor\")\n",
        "  elif c>b and c>a :\n",
        "    print(f\"{c} es el mayor\")\n",
        "    if a>b:\n",
        "      print(f\"{a} es el del medio y {b} es el menor\")\n",
        "    else:\n",
        "      print(f\"{b} es el del medio y {a} es el menor\")    \n",
        "  else:\n",
        "    print(f\"ingresa datos validos y diferentes\")\n"
      ],
      "metadata": {
        "id": "r_Jsh4NcnrF0"
      },
      "execution_count": null,
      "outputs": []
    },
    {
      "cell_type": "code",
      "source": [
        "mayortres(5,4,2)"
      ],
      "metadata": {
        "colab": {
          "base_uri": "https://localhost:8080/"
        },
        "id": "MianDdBRoHOq",
        "outputId": "e126228e-3ff5-411d-d5d8-bd2edd929951"
      },
      "execution_count": null,
      "outputs": [
        {
          "output_type": "stream",
          "name": "stdout",
          "text": [
            " 5 es el mayor\n",
            " 4 es el numero del medio y 2 es el menor\n"
          ]
        }
      ]
    },
    {
      "cell_type": "code",
      "source": [
        "mayordos(4,mayordos(5,6))"
      ],
      "metadata": {
        "colab": {
          "base_uri": "https://localhost:8080/",
          "height": 304
        },
        "id": "m-pZWgY1spqh",
        "outputId": "faf24d27-dcfc-47c7-b708-92a38c8eb978"
      },
      "execution_count": null,
      "outputs": [
        {
          "output_type": "stream",
          "name": "stdout",
          "text": [
            "6 es el mayor\n"
          ]
        },
        {
          "output_type": "error",
          "ename": "TypeError",
          "evalue": "ignored",
          "traceback": [
            "\u001b[0;31m---------------------------------------------------------------------------\u001b[0m",
            "\u001b[0;31mTypeError\u001b[0m                                 Traceback (most recent call last)",
            "\u001b[0;32m<ipython-input-28-e7a2f9eb154b>\u001b[0m in \u001b[0;36m<module>\u001b[0;34m\u001b[0m\n\u001b[0;32m----> 1\u001b[0;31m \u001b[0mmayordos\u001b[0m\u001b[0;34m(\u001b[0m\u001b[0;36m4\u001b[0m\u001b[0;34m,\u001b[0m\u001b[0mmayordos\u001b[0m\u001b[0;34m(\u001b[0m\u001b[0;36m5\u001b[0m\u001b[0;34m,\u001b[0m\u001b[0;36m6\u001b[0m\u001b[0;34m)\u001b[0m\u001b[0;34m)\u001b[0m\u001b[0;34m\u001b[0m\u001b[0;34m\u001b[0m\u001b[0m\n\u001b[0m",
            "\u001b[0;32m<ipython-input-15-b013e8b5f2f1>\u001b[0m in \u001b[0;36mmayordos\u001b[0;34m(a, b)\u001b[0m\n\u001b[1;32m      1\u001b[0m \u001b[0;32mdef\u001b[0m \u001b[0mmayordos\u001b[0m\u001b[0;34m(\u001b[0m\u001b[0ma\u001b[0m\u001b[0;34m,\u001b[0m\u001b[0mb\u001b[0m\u001b[0;34m)\u001b[0m\u001b[0;34m:\u001b[0m\u001b[0;34m\u001b[0m\u001b[0;34m\u001b[0m\u001b[0m\n\u001b[0;32m----> 2\u001b[0;31m   \u001b[0;32mif\u001b[0m \u001b[0ma\u001b[0m\u001b[0;34m>\u001b[0m\u001b[0mb\u001b[0m\u001b[0;34m:\u001b[0m\u001b[0;34m\u001b[0m\u001b[0;34m\u001b[0m\u001b[0m\n\u001b[0m\u001b[1;32m      3\u001b[0m     \u001b[0mprint\u001b[0m\u001b[0;34m(\u001b[0m\u001b[0;34mf\" {a} es el mayor\"\u001b[0m\u001b[0;34m)\u001b[0m\u001b[0;34m\u001b[0m\u001b[0;34m\u001b[0m\u001b[0m\n\u001b[1;32m      4\u001b[0m   \u001b[0;32melse\u001b[0m\u001b[0;34m:\u001b[0m\u001b[0;34m\u001b[0m\u001b[0;34m\u001b[0m\u001b[0m\n\u001b[1;32m      5\u001b[0m     \u001b[0mprint\u001b[0m\u001b[0;34m(\u001b[0m\u001b[0mb\u001b[0m\u001b[0;34m,\u001b[0m\u001b[0;34m\"es el mayor\"\u001b[0m\u001b[0;34m)\u001b[0m\u001b[0;34m\u001b[0m\u001b[0;34m\u001b[0m\u001b[0m\n",
            "\u001b[0;31mTypeError\u001b[0m: '>' not supported between instances of 'int' and 'NoneType'"
          ]
        }
      ]
    },
    {
      "cell_type": "code",
      "source": [
        "def sumartres():#cuando queremos crear funciones para ingresar datos no limitar parametros. si tenemos parametros claros limitamos.\n",
        "\n",
        "  x=int(input(\"ingrese un numero entero para la primera posicion de tu lista\"))\n",
        "  y=int(input(\"ingrese segundo numero entero para la segunda posicion de tu lista\"))\n",
        "  z=int(input(\"Ingrese tercer numero entero para la tercera posicion de tu lista\"))\n",
        "  lista=[x,y,z]\n",
        "  suma=x+y+z\n",
        "  print(f\" tu lista es {lista} y su suma es {suma}\")\n"
      ],
      "metadata": {
        "id": "DbiBOg0ItJYR"
      },
      "execution_count": null,
      "outputs": []
    },
    {
      "cell_type": "code",
      "source": [
        "sumar()"
      ],
      "metadata": {
        "colab": {
          "base_uri": "https://localhost:8080/"
        },
        "id": "aoM2uhWIuZNS",
        "outputId": "798fa39a-8107-46a3-d931-00166c41df0b"
      },
      "execution_count": null,
      "outputs": [
        {
          "output_type": "stream",
          "name": "stdout",
          "text": [
            "ingrese un numero entero para la primera posicion de tu lista8\n",
            "ingrese segundo numero entero para la segunda posicion de tu lista7\n",
            "Ingrese tercer numero entero para la tercera posicion de tu lista5\n",
            " tu lista es [8, 7, 5] y su suma es 20\n"
          ]
        }
      ]
    },
    {
      "cell_type": "code",
      "source": [
        "def sumarcuatro():#cuando queremos crear funciones para ingresar datos no limitar parametros. si tenemos parametros claros limitamos.\n",
        "\n",
        "  x=int(input(\"ingrese un numero entero para la primera posicion de tu lista\"))\n",
        "  y=int(input(\"ingrese segundo numero entero para la segunda posicion de tu lista\"))\n",
        "  z=int(input(\"Ingrese tercer numero entero para la tercera posicion de tu lista\"))\n",
        "  k=int(input(\"Ingrese cuatro numeros entero para la cuarta posicion de tu lista\"))\n",
        "  lista=[x,y,z,k]\n",
        "  suma=x+y+z+k\n",
        "  print(f\" tu lista es {lista} y su suma es {suma}\")\n",
        "\n"
      ],
      "metadata": {
        "id": "F2P54awuwl9Q"
      },
      "execution_count": null,
      "outputs": []
    },
    {
      "cell_type": "code",
      "source": [
        "sumarcuatro()\n"
      ],
      "metadata": {
        "colab": {
          "base_uri": "https://localhost:8080/"
        },
        "id": "H5F0SptVxob4",
        "outputId": "990b698a-4a48-4b0e-9168-df1c183cea74"
      },
      "execution_count": null,
      "outputs": [
        {
          "output_type": "stream",
          "name": "stdout",
          "text": [
            "ingrese un numero entero para la primera posicion de tu lista5\n",
            "ingrese segundo numero entero para la segunda posicion de tu lista8\n",
            "Ingrese tercer numero entero para la tercera posicion de tu lista8\n",
            "Ingrese cuatro numeros entero para la cuarta posicion de tu lista4\n",
            " tu lista es [5, 8, 8, 4] y su suma es 25\n"
          ]
        }
      ]
    },
    {
      "cell_type": "code",
      "source": [
        "def multitres():#cuando queremos crear funciones para ingresar datos no limitar parametros. si tenemos parametros claros limitamos.\n",
        "\n",
        "  x=int(input(\"ingrese un numero entero para la primera posicion de tu lista\"))\n",
        "  y=int(input(\"ingrese segundo numero entero para la segunda posicion de tu lista\"))\n",
        "  z=int(input(\"Ingrese tercer numero entero para la tercera posicion de tu lista\"))\n",
        "  lista=[x,y,z]\n",
        "  multipli=x*y*z\n",
        "  print(f\" tu lista es {lista} y su suma es {multipli}\")"
      ],
      "metadata": {
        "id": "_0ryqSlB0Tp9"
      },
      "execution_count": null,
      "outputs": []
    },
    {
      "cell_type": "code",
      "source": [
        "multitres()"
      ],
      "metadata": {
        "colab": {
          "base_uri": "https://localhost:8080/"
        },
        "id": "ORbd4Agi1FLs",
        "outputId": "2d02cd7d-586b-47cc-dcda-3e68ba16711f"
      },
      "execution_count": null,
      "outputs": [
        {
          "output_type": "stream",
          "name": "stdout",
          "text": [
            "ingrese un numero entero para la primera posicion de tu lista5\n",
            "ingrese segundo numero entero para la segunda posicion de tu lista4\n",
            "Ingrese tercer numero entero para la tercera posicion de tu lista5\n",
            " tu lista es [5, 4, 5] y su suma es 14\n"
          ]
        }
      ]
    },
    {
      "cell_type": "code",
      "source": [
        "def sumarcuatro():#cuando queremos crear funciones para ingresar datos no limitar parametros. si tenemos parametros claros limitamos.\n",
        "\n",
        "  x=int(input(\"ingrese un numero entero para la primera posicion de tu lista\"))\n",
        "  y=int(input(\"ingrese segundo numero entero para la segunda posicion de tu lista\"))\n",
        "  z=int(input(\"Ingrese tercer numero entero para la tercera posicion de tu lista\"))\n",
        "  k=int(input(\"Ingrese cuatro numeros entero para la cuarta posicion de tu lista\"))\n",
        "  lista=[x,y,z,k]\n",
        "  multiplicar=x*y*z*k\n",
        "  print(f\" tu lista es {lista} y su suma es {multiplicar}\")"
      ],
      "metadata": {
        "id": "vAkp2usS1UCj"
      },
      "execution_count": null,
      "outputs": []
    },
    {
      "cell_type": "code",
      "source": [
        "sumarcuatro()"
      ],
      "metadata": {
        "colab": {
          "base_uri": "https://localhost:8080/"
        },
        "id": "-D_zWSyf1e0z",
        "outputId": "e04e7965-2960-4450-fd6b-ae0bcdefacb0"
      },
      "execution_count": null,
      "outputs": [
        {
          "output_type": "stream",
          "name": "stdout",
          "text": [
            "ingrese un numero entero para la primera posicion de tu lista8\n",
            "ingrese segundo numero entero para la segunda posicion de tu lista4\n",
            "Ingrese tercer numero entero para la tercera posicion de tu lista1\n",
            "Ingrese cuatro numeros entero para la cuarta posicion de tu lista2\n",
            " tu lista es [8, 4, 1, 2] y su suma es 64\n"
          ]
        }
      ]
    },
    {
      "cell_type": "code",
      "source": [
        "n=int(input(\"ingrese la cantidad de elementos de la lista\"))\n",
        "lista=list(range(1,n))\n",
        "for lista in range(0,n,1):\n",
        "  p=int(input(\"Ingrese el valor de la posicion \"))\n",
        "\n",
        "  print(lista)\n"
      ],
      "metadata": {
        "colab": {
          "base_uri": "https://localhost:8080/",
          "height": 130
        },
        "id": "haOmCXQx1nOT",
        "outputId": "b3846ab9-c9e5-471e-ce38-aacd1290a557"
      },
      "execution_count": null,
      "outputs": [
        {
          "output_type": "error",
          "ename": "SyntaxError",
          "evalue": "ignored",
          "traceback": [
            "\u001b[0;36m  File \u001b[0;32m\"<ipython-input-74-e2ce451aa8bf>\"\u001b[0;36m, line \u001b[0;32m5\u001b[0m\n\u001b[0;31m    lista[]=lista[p]\u001b[0m\n\u001b[0m          ^\u001b[0m\n\u001b[0;31mSyntaxError\u001b[0m\u001b[0;31m:\u001b[0m invalid syntax\n"
          ]
        }
      ]
    }
  ]
}