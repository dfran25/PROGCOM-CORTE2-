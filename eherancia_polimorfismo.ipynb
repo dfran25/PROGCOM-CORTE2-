{
  "nbformat": 4,
  "nbformat_minor": 0,
  "metadata": {
    "colab": {
      "provenance": [],
      "authorship_tag": "ABX9TyNiz089PVXBipFnYoNA32JV",
      "include_colab_link": true
    },
    "kernelspec": {
      "name": "python3",
      "display_name": "Python 3"
    },
    "language_info": {
      "name": "python"
    }
  },
  "cells": [
    {
      "cell_type": "markdown",
      "metadata": {
        "id": "view-in-github",
        "colab_type": "text"
      },
      "source": [
        "<a href=\"https://colab.research.google.com/github/dfran25/PROGCOM-CORTE2-/blob/main/eherancia_polimorfismo.ipynb\" target=\"_parent\"><img src=\"https://colab.research.google.com/assets/colab-badge.svg\" alt=\"Open In Colab\"/></a>"
      ]
    },
    {
      "cell_type": "code",
      "execution_count": 16,
      "metadata": {
        "id": "6YjCuyvUGzuW"
      },
      "outputs": [],
      "source": [
        "class Sayayin ():\n",
        "  def __init__(self,nombre, cabello , ojos,fuerza, estatura,color):\n",
        "    self.cabello=\"negro\"\n",
        "    self.ojos=\"negro\"\n",
        "    self.fuerza=fuerza\n",
        "    self.estatura=estatura\n",
        "    self.cola= True\n",
        "    self.nombre=nombre\n",
        "  def color_cabello(self,fuerza_base):\n",
        "    fuerza_t=90000\n",
        "    if fuerza_base*10>=fuerza_t:\n",
        "      print(\"ALCANZA FASE 1\")\n",
        "      self.cabello=\"rubio\"\n",
        "    elif  fuerza_base*20>=fuerza_t*20:\n",
        "      print(\"ALCANZA FASE 2\")\n",
        "      self.cabello=\"rubio\"\n",
        "    elif fuerza_base*1000>=fuerza_t*1000:\n",
        "      print(\"ALCANZA NIVEL 4\")\n",
        "      self.cabello=\"rojo\"\n",
        "    else:\n",
        "      self.cola==False\n",
        "\n",
        "  def trabajo(self,trabajo):\n",
        "    if trabajo==1:\n",
        "      print(f\"{self.nombre} es de tipo guerrero\")\n",
        "    elif trabajo==2:\n",
        "      print(f\"{self.nombre} es de tipo  liendra de freezer\")\n",
        "    elif trabajo==3:\n",
        "      print(f\"{self.nombre} es de tipo mercenarios\")\n",
        "    else:\n",
        "      print(f\"{self.nombre} es de la realeza\")\n",
        "  def luna(self,luna):\n",
        "    if self.cola and luna==\"luna llena\":\n",
        "      print(f\"{self.nombre}Se convierte en ozaru\")\n",
        "      self.fuerza=self.fuerza*50\n",
        "    else: \n",
        "      print(f\"{self.nombre} no se transforma en naa :V\")\n",
        "  "
      ]
    },
    {
      "cell_type": "code",
      "source": [
        "class Humano ():\n",
        "  def __init__(self,nombre, cabello , ojos, estatura,color):\n",
        "    self.cabello=cabello\n",
        "    self.ojos=ojos\n",
        "    self.estatura=estatura\n",
        "    self.nombre=nombre\n",
        "    self.color=color\n",
        "  def color_cabello(self,tinte):\n",
        "    if tinte==0:\n",
        "      print(f\"{self.nombre} ha decolorado su cabello\")\n",
        "      self.cabello=\"amarillo\"\n",
        "    elif tinte==2:\n",
        "      print(f\"{self.nombre} ha colorado su cabello de lila\")\n",
        "      self.cabello=\"lila\"\n",
        "    elif  tinte==3:\n",
        "      print(f\"{self.nombre} ha colorado su cabello canoso\")\n",
        "      self.cabello=\"canoso\"\n",
        "  \n",
        "  def trabajo(self,trabajo):\n",
        "    if trabajo==1:\n",
        "      print(f\"{self.nombre }es de tipo callcenter\")\n",
        "    elif trabajo==2:\n",
        "      print(f\"{self.nombre} es de tipo  liendra de Bonice\")\n",
        "    elif trabajo==3:\n",
        "      print(f\"{self.nombre} trabaja de tombo\")\n",
        "    elif trabajo==4:\n",
        "      print(f\"{self.nombre} es un nini\")\n",
        "    else:\n",
        "      print(f\"{self.nombre} es programador de python\")"
      ],
      "metadata": {
        "id": "mqVN_CDxOHHZ"
      },
      "execution_count": 13,
      "outputs": []
    },
    {
      "cell_type": "code",
      "source": [
        "class Hibrido(Sayayin,Humano):\n",
        "  pass"
      ],
      "metadata": {
        "id": "x-3zgcE5S8C2"
      },
      "execution_count": 21,
      "outputs": []
    },
    {
      "cell_type": "code",
      "source": [
        "goku=Sayayin(\"Kakaroto\", \"arcoiris\",\"verde-dorado\",100,50,True)"
      ],
      "metadata": {
        "id": "k5vTVEqmSq6C"
      },
      "execution_count": 18,
      "outputs": []
    },
    {
      "cell_type": "code",
      "source": [
        "milk=Humano(\"Milk\",\"negros\",\"negro\", 100, 50)"
      ],
      "metadata": {
        "id": "20h6DP1CTSCO"
      },
      "execution_count": null,
      "outputs": []
    },
    {
      "cell_type": "code",
      "source": [
        "gohan=Hibrido(\"Gohan\",\"negro\",\"aguamarina\",1000,50, True)"
      ],
      "metadata": {
        "id": "SjTZBtJhVWDx"
      },
      "execution_count": 23,
      "outputs": []
    },
    {
      "cell_type": "code",
      "source": [],
      "metadata": {
        "colab": {
          "base_uri": "https://localhost:8080/"
        },
        "id": "zDu9jwoRX4SE",
        "outputId": "7078694b-7927-48f9-a007-ec99fa8fbcd5"
      },
      "execution_count": 24,
      "outputs": [
        {
          "output_type": "execute_result",
          "data": {
            "text/plain": [
              "<__main__.Hibrido at 0x7feaa04ec450>"
            ]
          },
          "metadata": {},
          "execution_count": 24
        }
      ]
    }
  ]
}