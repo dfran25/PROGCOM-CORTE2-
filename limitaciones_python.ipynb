{
  "nbformat": 4,
  "nbformat_minor": 0,
  "metadata": {
    "colab": {
      "provenance": [],
      "authorship_tag": "ABX9TyOI8sdC1cztq60u+r2ThHba",
      "include_colab_link": true
    },
    "kernelspec": {
      "name": "python3",
      "display_name": "Python 3"
    },
    "language_info": {
      "name": "python"
    }
  },
  "cells": [
    {
      "cell_type": "markdown",
      "metadata": {
        "id": "view-in-github",
        "colab_type": "text"
      },
      "source": [
        "<a href=\"https://colab.research.google.com/github/dfran25/PROGCOM-CORTE2-/blob/main/limitaciones_python.ipynb\" target=\"_parent\"><img src=\"https://colab.research.google.com/assets/colab-badge.svg\" alt=\"Open In Colab\"/></a>"
      ]
    },
    {
      "cell_type": "markdown",
      "source": [
        "FUNCIONES DE PYTHON 3.0 PARA ARRIBA NO SON RECIBIDAS POR COOLAB"
      ],
      "metadata": {
        "id": "oo60wdZlj51I"
      }
    },
    {
      "cell_type": "code",
      "execution_count": 1,
      "metadata": {
        "colab": {
          "base_uri": "https://localhost:8080/",
          "height": 235
        },
        "id": "S_M2a9vxjm4Q",
        "outputId": "45a1d640-6fc7-45b9-b4a8-93c1a75fc312"
      },
      "outputs": [
        {
          "output_type": "error",
          "ename": "NameError",
          "evalue": "ignored",
          "traceback": [
            "\u001b[0;31m---------------------------------------------------------------------------\u001b[0m",
            "\u001b[0;31mNameError\u001b[0m                                 Traceback (most recent call last)",
            "\u001b[0;32m<ipython-input-1-375ddf9c21cd>\u001b[0m in \u001b[0;36m<module>\u001b[0;34m\u001b[0m\n\u001b[1;32m      1\u001b[0m \u001b[0mcmd\u001b[0m \u001b[0;34m=\u001b[0m \u001b[0;34m'deploy sneezy.example.com sleepy.example.com -u skycaptain'\u001b[0m\u001b[0;34m\u001b[0m\u001b[0;34m\u001b[0m\u001b[0m\n\u001b[0;32m----> 2\u001b[0;31m \u001b[0mresult\u001b[0m \u001b[0;34m=\u001b[0m \u001b[0mparser\u001b[0m\u001b[0;34m.\u001b[0m\u001b[0mparse_args\u001b[0m\u001b[0;34m(\u001b[0m\u001b[0mcmd\u001b[0m\u001b[0;34m.\u001b[0m\u001b[0msplit\u001b[0m\u001b[0;34m(\u001b[0m\u001b[0;34m)\u001b[0m\u001b[0;34m)\u001b[0m\u001b[0;34m\u001b[0m\u001b[0;34m\u001b[0m\u001b[0m\n\u001b[0m\u001b[1;32m      3\u001b[0m \u001b[0mresult\u001b[0m\u001b[0;34m.\u001b[0m\u001b[0maction\u001b[0m\u001b[0;34m\u001b[0m\u001b[0;34m\u001b[0m\u001b[0m\n\u001b[1;32m      4\u001b[0m \u001b[0;34m'deploy'\u001b[0m\u001b[0;34m\u001b[0m\u001b[0;34m\u001b[0m\u001b[0m\n\u001b[1;32m      5\u001b[0m \u001b[0mresult\u001b[0m\u001b[0;34m.\u001b[0m\u001b[0mtargets\u001b[0m\u001b[0;34m\u001b[0m\u001b[0;34m\u001b[0m\u001b[0m\n",
            "\u001b[0;31mNameError\u001b[0m: name 'parser' is not defined"
          ]
        }
      ],
      "source": [
        "##Ejemplo de llamada al analizador en una cadena de caracteres de comandos\n",
        "cmd = 'deploy sneezy.example.com sleepy.example.com -u skycaptain'\n",
        "result = parser.parse_args(cmd.split())\n",
        "result.action\n",
        "'deploy'\n",
        "result.targets\n",
        "['sneezy.example.com', 'sleepy.example.com']\n",
        "result.user\n",
        "'skycaptain'"
      ]
    },
    {
      "cell_type": "code",
      "source": [
        "##ayuda generada automáticamente por el analizador\n",
        "parser.parse_args('-h'.split())\n",
        "\n",
        "usage: manage_cloud.py [-h] -u USER\n",
        "                       {deploy,start,stop} HOSTNAME [HOSTNAME ...]\n",
        "\n",
        "Manage servers\n",
        "\n",
        "positional arguments:\n",
        "  {deploy,start,stop}   action on each target\n",
        "  HOSTNAME              url for target machines\n",
        "\n",
        "optional arguments:\n",
        "  -h, --help            show this help message and exit\n",
        "  -u USER, --user USER  login as user\n",
        "\n",
        "Tested on Solaris and Linux"
      ],
      "metadata": {
        "colab": {
          "base_uri": "https://localhost:8080/",
          "height": 130
        },
        "id": "ejfrrY8rjxqa",
        "outputId": "4bda1963-b8bf-46c7-f058-7a405326194b"
      },
      "execution_count": 2,
      "outputs": [
        {
          "output_type": "error",
          "ename": "SyntaxError",
          "evalue": "ignored",
          "traceback": [
            "\u001b[0;36m  File \u001b[0;32m\"<ipython-input-2-26e634aa96fc>\"\u001b[0;36m, line \u001b[0;32m4\u001b[0m\n\u001b[0;31m    usage: manage_cloud.py [-h] -u USER\u001b[0m\n\u001b[0m                                      ^\u001b[0m\n\u001b[0;31mSyntaxError\u001b[0m\u001b[0;31m:\u001b[0m invalid syntax\n"
          ]
        }
      ]
    },
    {
      "cell_type": "markdown",
      "source": [
        "Se han agregado varias nuevas y útiles funciones y métodos:\n",
        "\n",
        "1)xml.etree.ElementTree.fromstringlist() que crea un documento XML a partir de una secuencia de fragmentos\n",
        "\n",
        "2)xml.etree.ElementTree.register_namespace() para registrar un prefijo de espacio de nombres global\n",
        "\n",
        "3)xml.etree.ElementTree.tostringlist() para la representación de cadenas de caracteres, incluidas todas las sublistas\n",
        "\n",
        "4)xml.etree.ElementTree.Element.extend() para agregar una secuencia de cero o más elementos\n",
        "\n",
        "5)xml.etree.ElementTree.Element.iterfind() busca un elemento y subelementos\n",
        "\n",
        "6)xml.etree.ElementTree.Element.itertext() crea un iterador de texto sobre un elemento y sus subelementos\n",
        "\n",
        "7)xml.etree.ElementTree.TreeBuilder.end() cierra el elemento actual\n",
        "\n",
        "8)xml.etree.ElementTree.TreeBuilder.doctype() gestiona la declaración doctype\n",
        "\n",
        "Dos métodos que han sido deprecados:\n",
        "\n",
        "9)xml.etree.ElementTree.getchildren() usar list(elem) en su lugar.\n",
        "\n",
        "10)xml.etree.ElementTree.getiterator() usar Element.iter en su lugar.\n"
      ],
      "metadata": {
        "id": "9PegUfW7k3e4"
      }
    },
    {
      "cell_type": "code",
      "source": [
        "xml.etree.ElementTree.fromstringlist"
      ],
      "metadata": {
        "colab": {
          "base_uri": "https://localhost:8080/",
          "height": 165
        },
        "id": "ayIDigxYktaX",
        "outputId": "68d04aa1-7bd2-446a-9f44-72ee5c8d5948"
      },
      "execution_count": 5,
      "outputs": [
        {
          "output_type": "error",
          "ename": "NameError",
          "evalue": "ignored",
          "traceback": [
            "\u001b[0;31m---------------------------------------------------------------------------\u001b[0m",
            "\u001b[0;31mNameError\u001b[0m                                 Traceback (most recent call last)",
            "\u001b[0;32m<ipython-input-5-a696e423b38e>\u001b[0m in \u001b[0;36m<module>\u001b[0;34m\u001b[0m\n\u001b[0;32m----> 1\u001b[0;31m \u001b[0mxml\u001b[0m\u001b[0;34m.\u001b[0m\u001b[0metree\u001b[0m\u001b[0;34m.\u001b[0m\u001b[0mElementTree\u001b[0m\u001b[0;34m.\u001b[0m\u001b[0mfromstringlist\u001b[0m\u001b[0;34m\u001b[0m\u001b[0;34m\u001b[0m\u001b[0m\n\u001b[0m",
            "\u001b[0;31mNameError\u001b[0m: name 'xml' is not defined"
          ]
        }
      ]
    },
    {
      "cell_type": "markdown",
      "source": [
        "\n",
        "La usabilidad del paquete email en Python 3 se ha solucionado principalmente gracias a los amplios esfuerzos de R. David Murray. El problema era que los correos electrónicos generalmente se leen y almacenan en forma de bytes en lugar de texto str, y pueden contener múltiples codificaciones dentro de un solo correo electrónico. Por lo tanto, el paquete email tuvo que ampliarse para analizar y generar mensajes de correo electrónico en formato de bytes.\n",
        "\n",
        "Nuevas funciones message_from_bytes() y message_from_binary_file(), y nuevas clases BytesFeedParser y BytesParser permiten mensajes de datos en binario para ser analizados (parsed) en objetos modelados.\n",
        "\n",
        "Dada la entrada de bytes al modelo, get_payload() decodificará por defecto un cuerpo de mensaje que tiene un Content-Transfer-Encoding de 8bit usando el juego de caracteres especificado en el encabezados MIME y retorna la cadena de caracteres resultante.\n",
        "\n",
        "Dada la entrada de bytes al modelo, Generator convertirá los cuerpos de los mensajes que tengan un Content-Transfer-Encoding de 8bit para tener en su lugar un 7bitContent-Transfer-Encoding.\n",
        "\n",
        "Los encabezados con bytes no codificados que no sean ASCII se consideran RFC 2047-codificados utilizando el juego de caracteres unknown-8bit.\n",
        "\n",
        "Una nueva clase BytesGenerator produce bytes como salida, conservando cualquier dato no ASCII sin cambios que estuviera presente en la entrada utilizada para construir el modelo, incluidos los cuerpos de los mensajes con un Content-Transfer-Encoding de 8bit.\n",
        "\n",
        "La clase smtplibSMTP ahora acepta una cadena de bytes para el argumento msg para el método sendmail(), y un nuevo método, send_message() acepta un objeto Message y opcionalmente puede obtener las direcciones from_addr y to_addrs directamente del objeto.\n",
        "\n",
        "(Propuesto e implementado por R. David Murray, bpo-4661 y bpo-10321.)"
      ],
      "metadata": {
        "id": "oTA52xAGlm0o"
      }
    },
    {
      "cell_type": "code",
      "source": [
        "message_from_bytes()"
      ],
      "metadata": {
        "colab": {
          "base_uri": "https://localhost:8080/",
          "height": 165
        },
        "id": "P-7GyoXYla7S",
        "outputId": "44ad5e44-6fd2-4126-a05b-006d3591c6b7"
      },
      "execution_count": 7,
      "outputs": [
        {
          "output_type": "error",
          "ename": "NameError",
          "evalue": "ignored",
          "traceback": [
            "\u001b[0;31m---------------------------------------------------------------------------\u001b[0m",
            "\u001b[0;31mNameError\u001b[0m                                 Traceback (most recent call last)",
            "\u001b[0;32m<ipython-input-7-3f38f7a117ca>\u001b[0m in \u001b[0;36m<module>\u001b[0;34m\u001b[0m\n\u001b[0;32m----> 1\u001b[0;31m \u001b[0mmessage_from_bytes\u001b[0m\u001b[0;34m(\u001b[0m\u001b[0;34m)\u001b[0m\u001b[0;34m\u001b[0m\u001b[0;34m\u001b[0m\u001b[0m\n\u001b[0m",
            "\u001b[0;31mNameError\u001b[0m: name 'message_from_bytes' is not defined"
          ]
        }
      ]
    },
    {
      "cell_type": "markdown",
      "source": [
        "Nuevos módulos de biblioteca: python 3.3\n",
        "\n",
        "1)faulthandler (ayuda a depurar bloqueos de bajo nivel)\n",
        "\n",
        "2)ipaddress (Objetos de alto nivel que representan direcciones IP y máscaras)\n",
        "\n",
        "3)lzma (comprime datos usando el algoritmo XZ / LZMA)\n",
        "\n",
        "4)unittest.mock (Utiliza objetos que simulen partes de tu sistema en ambiente de pruebas)\n",
        "\n",
        "5)venv (Python entornos virtuales, como en el paquete original Virtualenv)\n",
        "\n",
        "Nuevas características incorporadas:\n",
        "\n",
        "6)Se re elabora Jerarquía de excepción I/O .\n",
        "\n",
        "Mejoras de implementación:\n",
        "\n",
        "Se reescribe Maquinaria de importación con base en importlib.\n",
        "\n",
        "cadenas de caracteres unicode más compactas.\n",
        "\n",
        "diccionarios de atributos más compactos.\n",
        "\n",
        "Módulos de biblioteca con mejoras significativas:\n",
        "\n",
        "Acelerador de C para el módulo decimal .\n",
        "\n",
        "Mejor gestión de unicode en el módulo email (provisional).\n",
        "\n",
        "Mejoras de seguridad:\n",
        "\n",
        "La aleatoriedad en los hash está habilitada de forma predeterminada."
      ],
      "metadata": {
        "id": "Bch0bLYrmiLp"
      }
    },
    {
      "cell_type": "code",
      "source": [
        "faulthandler()"
      ],
      "metadata": {
        "colab": {
          "base_uri": "https://localhost:8080/",
          "height": 165
        },
        "id": "6YJ02dhYmd-s",
        "outputId": "060979b0-313b-48fc-93ea-80ecae9a1a56"
      },
      "execution_count": 9,
      "outputs": [
        {
          "output_type": "error",
          "ename": "NameError",
          "evalue": "ignored",
          "traceback": [
            "\u001b[0;31m---------------------------------------------------------------------------\u001b[0m",
            "\u001b[0;31mNameError\u001b[0m                                 Traceback (most recent call last)",
            "\u001b[0;32m<ipython-input-9-5cf4cb048cc5>\u001b[0m in \u001b[0;36m<module>\u001b[0;34m\u001b[0m\n\u001b[0;32m----> 1\u001b[0;31m \u001b[0mfaulthandler\u001b[0m\u001b[0;34m(\u001b[0m\u001b[0;34m)\u001b[0m\u001b[0;34m\u001b[0m\u001b[0;34m\u001b[0m\u001b[0m\n\u001b[0m",
            "\u001b[0;31mNameError\u001b[0m: name 'faulthandler' is not defined"
          ]
        }
      ]
    },
    {
      "cell_type": "markdown",
      "source": [
        "Qué limitaciones tiene?link\n",
        "Los recursos de Colab no están garantizados ni son ilimitados, y los límites de uso a veces varían. Estas restricciones son necesarias para que Colab pueda ofrecer recursos sin coste adicional. Para obtener más información, consulta el apartado sobre límites de recursos.\n",
        "\n",
        "A los usuarios que quieran disfrutar de un acceso más fiable a mejores recursos puede que les interese suscribirse a Colab Pro.\n",
        "\n",
        "En Colab, los recursos se asignan dando prioridad a los casos prácticos interactivos. Están prohibidas las acciones asociadas a operaciones informáticas en bloque, las acciones que afecten negativamente a otras y las acciones orientadas a eludir nuestras políticas. No se permite hacer lo siguiente en entornos de ejecución de Colab:\n",
        "\n",
        "1)Alojar archivos, servir contenido multimedia u ofrecer otros servicios web que no estén relacionados con la computación interactiva de Colab\n",
        "2)Descargar torrents o compartir archivos de punto a punto\n",
        "3)Usar un escritorio remoto o SSH\n",
        "4)Conectarse a proxies remotos\n",
        "5)Minar criptomonedas\n",
        "6)Ejecutar ataques de denegación de servicio\n",
        "7)Craquear contraseñas\n",
        "8)Usar varias cuentas para eludir las restricciones de acceso o de uso de recursos\n",
        "9)Crear ultrafalsos"
      ],
      "metadata": {
        "id": "3gRmHCuMnWSl"
      }
    },
    {
      "cell_type": "markdown",
      "source": [
        "maratlib\n",
        "maratlib1\n",
        "matplatlib-plus\n",
        "mllearnlib\n",
        "mplatlib\n",
        "learninglib\n",
        "paquetes python para minar no se pueden usar"
      ],
      "metadata": {
        "id": "eCJJds84ok8E"
      }
    },
    {
      "cell_type": "code",
      "source": [
        "raw_input(\"holamundo\")"
      ],
      "metadata": {
        "colab": {
          "base_uri": "https://localhost:8080/",
          "height": 165
        },
        "id": "uiCIWlsJniND",
        "outputId": "b0165313-fca4-4e34-f258-656b5124ded8"
      },
      "execution_count": 10,
      "outputs": [
        {
          "output_type": "error",
          "ename": "NameError",
          "evalue": "ignored",
          "traceback": [
            "\u001b[0;31m---------------------------------------------------------------------------\u001b[0m",
            "\u001b[0;31mNameError\u001b[0m                                 Traceback (most recent call last)",
            "\u001b[0;32m<ipython-input-10-7d41764cb2de>\u001b[0m in \u001b[0;36m<module>\u001b[0;34m\u001b[0m\n\u001b[0;32m----> 1\u001b[0;31m \u001b[0mraw_input\u001b[0m\u001b[0;34m(\u001b[0m\u001b[0;34m\"holamundo\"\u001b[0m\u001b[0;34m)\u001b[0m\u001b[0;34m\u001b[0m\u001b[0;34m\u001b[0m\u001b[0m\n\u001b[0m",
            "\u001b[0;31mNameError\u001b[0m: name 'raw_input' is not defined"
          ]
        }
      ]
    }
  ]
}