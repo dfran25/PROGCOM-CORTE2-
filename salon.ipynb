{
  "nbformat": 4,
  "nbformat_minor": 0,
  "metadata": {
    "colab": {
      "provenance": [],
      "authorship_tag": "ABX9TyPXYepRCdFgrLA72iuR0xn1",
      "include_colab_link": true
    },
    "kernelspec": {
      "name": "python3",
      "display_name": "Python 3"
    },
    "language_info": {
      "name": "python"
    }
  },
  "cells": [
    {
      "cell_type": "markdown",
      "metadata": {
        "id": "view-in-github",
        "colab_type": "text"
      },
      "source": [
        "<a href=\"https://colab.research.google.com/github/dfran25/PROGCOM-CORTE2-/blob/main/salon.ipynb\" target=\"_parent\"><img src=\"https://colab.research.google.com/assets/colab-badge.svg\" alt=\"Open In Colab\"/></a>"
      ]
    },
    {
      "cell_type": "code",
      "execution_count": 31,
      "metadata": {
        "id": "MElqcTK9BNeu"
      },
      "outputs": [],
      "source": [
        "global lista\n",
        "lista=list()\n",
        "\n",
        "class Estudiante():\n",
        "\n",
        "  def __init__(self, codigo,nombre,edad,carrera):\n",
        "        self.codigo=codigo\n",
        "        self.nombre=nombre\n",
        "        self.edad=edad\n",
        "        self.carrera=carrera\n",
        "\n",
        "def registrarEstudiante():\n",
        "    print(\"registrar alumno\")\n",
        "    codigo=input(\"Ingrese codigo estudiante: \")\n",
        "    nombre=input(\"Ingrese nombre: \")\n",
        "    edad= input(\"Ingrese edad:  \")\n",
        "    carrera=input(\"Ingrese la carrera que cursa\")\n",
        "    lista.append(Estudiante(codigo,nombre,edad,carrera))\n",
        "\n",
        "def listaEstudiante():\n",
        "    print(\"Lista de estudiantes\") \n",
        "\n",
        "    for a in lista:\n",
        "      print(f\"{a.codigo}-{a.nombre}-{a.edad}-{a.carrera} \")\n",
        "\n",
        "def buscarEstudiante():\n",
        "    print(\"Buscar estudiante\")\n",
        "    codigo=input(\"Ingrese el codigo del estudiante: \")\n",
        "    nombre=input(\"Ingrese el nombre estudiante\")\n",
        "    for a in lista:\n",
        "      if a.codigo==codigo or a.nombre==nombre:\n",
        "        print(f\"{a.codigo}-{a.nombre}-{a.edad}-{a.carrera}\")\n",
        "\n",
        "def salir():\n",
        "    print(\"Aplicación finalizada\")\n",
        "\n",
        "def quitarEstudiante():\n",
        "  print(\"quitar estudiante\")\n",
        "  codigo=input(\"Ingrese codigo\")\n",
        "  lista = list(filter(lambda Estudiante: Estudiante.codigo != codigo, lista))\n",
        "\n",
        "def menu():\n",
        "    op=0\n",
        "    salir=5\n",
        "\n",
        "    while op!=salir:\n",
        "      print(\"MENU\")\n",
        "      print(\"1--- Registrar estudiante\")\n",
        "      print(\"2----Lista de estudiante\")\n",
        "      print(\"3----Buscar estudiante\")\n",
        "      print(\"4----Quitar estudiante\")\n",
        "      print(\"5----SALIR\")\n",
        "      print(\"DIGITE OPCION\")\n",
        "      op=input(\"INGRESE LA OPCION:  \")\n",
        "      if op==1:\n",
        "        registrarEstudiante()\n",
        "      elif op==2:\n",
        "        listaEstudiante()\n",
        "      elif op==3:\n",
        "        buscarEstudiante()\n",
        "      elif op==4:\n",
        "        quitarEstudiante()\n",
        "      elif op==5:\n",
        "        salir"
      ]
    },
    {
      "cell_type": "code",
      "source": [
        "registrarEstudiante()"
      ],
      "metadata": {
        "colab": {
          "base_uri": "https://localhost:8080/"
        },
        "id": "f8mKSQg0EGMr",
        "outputId": "b7023ad4-5e10-42ed-8d61-beb159a4670a"
      },
      "execution_count": 27,
      "outputs": [
        {
          "name": "stdout",
          "output_type": "stream",
          "text": [
            "registrar alumno\n",
            "Ingrese codigo estudiante: 12}\n",
            "Ingrese nombre: DIEGO\n",
            "Ingrese edad:  1\n",
            "Ingrese la carrera que cursaSIS\n"
          ]
        }
      ]
    },
    {
      "cell_type": "code",
      "source": [],
      "metadata": {
        "colab": {
          "base_uri": "https://localhost:8080/",
          "height": 165
        },
        "id": "Q8qwgLBJPdaY",
        "outputId": "31e18061-207a-47bf-c66d-28b111d6c40b"
      },
      "execution_count": 30,
      "outputs": [
        {
          "output_type": "error",
          "ename": "TypeError",
          "evalue": "ignored",
          "traceback": [
            "\u001b[0;31m---------------------------------------------------------------------------\u001b[0m",
            "\u001b[0;31mTypeError\u001b[0m                                 Traceback (most recent call last)",
            "\u001b[0;32m<ipython-input-30-2c3716fcbc54>\u001b[0m in \u001b[0;36m<module>\u001b[0;34m\u001b[0m\n\u001b[0;32m----> 1\u001b[0;31m \u001b[0mdict\u001b[0m\u001b[0;34m[\u001b[0m\u001b[0mlista\u001b[0m\u001b[0;34m(\u001b[0m\u001b[0;34m)\u001b[0m\u001b[0;34m]\u001b[0m\u001b[0;34m\u001b[0m\u001b[0;34m\u001b[0m\u001b[0m\n\u001b[0m",
            "\u001b[0;31mTypeError\u001b[0m: 'list' object is not callable"
          ]
        }
      ]
    }
  ]
}