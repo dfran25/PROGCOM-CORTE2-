{
  "nbformat": 4,
  "nbformat_minor": 0,
  "metadata": {
    "colab": {
      "provenance": [],
      "collapsed_sections": [
        "ogv1NRKY9zG3",
        "1b41aaiX-vVk",
        "SvKBDVb7Ce5y",
        "DiDdYlvRC6AZ",
        "rr0pM3_tDlGB",
        "gdkrh7NsEwhk",
        "zZ33oY73HgFv",
        "AKToR-OnwMQe",
        "_TjmNlxA6TRt",
        "1Wh4unjz9lUR",
        "x2mZWmUmB1W_",
        "BWGlbFXoJhj-",
        "rEBoW_heNIxC"
      ],
      "include_colab_link": true
    },
    "kernelspec": {
      "name": "python3",
      "display_name": "Python 3"
    },
    "language_info": {
      "name": "python"
    }
  },
  "cells": [
    {
      "cell_type": "markdown",
      "metadata": {
        "id": "view-in-github",
        "colab_type": "text"
      },
      "source": [
        "<a href=\"https://colab.research.google.com/github/dfran25/PROGCOM-CORTE2-/blob/main/listas_por_comprensi%C3%B3n.ipynb\" target=\"_parent\"><img src=\"https://colab.research.google.com/assets/colab-badge.svg\" alt=\"Open In Colab\"/></a>"
      ]
    },
    {
      "cell_type": "markdown",
      "source": [
        "#lista por comprensión \n",
        "######sintáxis: newlist = [expresión(elemento) for elemento n in oldlist si condicion]\n",
        "esto técnicamente es colocar primero la expresión u operación y luego la condición"
      ],
      "metadata": {
        "id": "ogv1NRKY9zG3"
      }
    },
    {
      "cell_type": "code",
      "execution_count": null,
      "metadata": {
        "colab": {
          "base_uri": "https://localhost:8080/"
        },
        "id": "lAsfq8i59kRF",
        "outputId": "7d510956-5604-4e47-c22f-667954179494"
      },
      "outputs": [
        {
          "output_type": "stream",
          "name": "stdout",
          "text": [
            "[2, 4, 6, 8, 10, 12, 14, 16]\n"
          ]
        }
      ],
      "source": [
        "numeros=[n*2 for n in range(1,9)]\n",
        "print(numeros)"
      ]
    },
    {
      "cell_type": "markdown",
      "source": [
        "#ventajas:\n",
        "######más eficiente en tiempo y espacio que los bucles\n",
        "######requiere menos líneas de código\n",
        "######transforma una declaracion iterativa en una formula "
      ],
      "metadata": {
        "id": "1b41aaiX-vVk"
      }
    },
    {
      "cell_type": "code",
      "source": [
        "cadenas=[\"*\" * n for n in range(1,6)]\n",
        "cadenas"
      ],
      "metadata": {
        "colab": {
          "base_uri": "https://localhost:8080/"
        },
        "id": "nO2QTuiZAbPY",
        "outputId": "efca0648-a885-441d-c161-934bc9d5869c"
      },
      "execution_count": null,
      "outputs": [
        {
          "output_type": "execute_result",
          "data": {
            "text/plain": [
              "['*', '**', '***', '****', '*****']"
            ]
          },
          "metadata": {},
          "execution_count": 3
        }
      ]
    },
    {
      "cell_type": "code",
      "source": [
        "numero=[2,5,6,9,10]\n",
        "cuadrados=[n**2 for n in numero]\n",
        "print(cuadrados)"
      ],
      "metadata": {
        "colab": {
          "base_uri": "https://localhost:8080/"
        },
        "id": "L_CamiEIAj5W",
        "outputId": "dd9e4d60-1e44-41e4-aa0f-f8fe4f88e796"
      },
      "execution_count": null,
      "outputs": [
        {
          "output_type": "stream",
          "name": "stdout",
          "text": [
            "[4, 25, 36, 81, 100]\n"
          ]
        }
      ]
    },
    {
      "cell_type": "code",
      "source": [
        "cadena= \"programación\"\n",
        "letras=[]\n",
        "for letra  in cadena:\n",
        "  letras.append(letra)\n",
        "\n",
        "print(letras)"
      ],
      "metadata": {
        "colab": {
          "base_uri": "https://localhost:8080/"
        },
        "id": "-XnKQv71Au6d",
        "outputId": "f90cf707-b527-4a1c-9cc6-be291bb723df"
      },
      "execution_count": null,
      "outputs": [
        {
          "output_type": "stream",
          "name": "stdout",
          "text": [
            "['p', 'r', 'o', 'g', 'r', 'a', 'm', 'a', 'c', 'i', 'ó', 'n']\n"
          ]
        }
      ]
    },
    {
      "cell_type": "code",
      "source": [
        "cadena = \"python\"\n",
        "letras =[ letra for letra in cadena]\n",
        "print(letras)"
      ],
      "metadata": {
        "colab": {
          "base_uri": "https://localhost:8080/"
        },
        "id": "b0mkhS3iCHqE",
        "outputId": "d7a129e1-07aa-4036-d557-090f3818d45e"
      },
      "execution_count": null,
      "outputs": [
        {
          "output_type": "stream",
          "name": "stdout",
          "text": [
            "['p', 'y', 't', 'h', 'o', 'n']\n"
          ]
        }
      ]
    },
    {
      "cell_type": "markdown",
      "source": [
        "#Ejercicio 1 by Samuelito"
      ],
      "metadata": {
        "id": "SvKBDVb7Ce5y"
      }
    },
    {
      "cell_type": "code",
      "source": [
        "x=input(\"ingrese la palabra que desee: \")\n",
        "lista=[n for n in x]\n",
        "lista"
      ],
      "metadata": {
        "colab": {
          "base_uri": "https://localhost:8080/"
        },
        "id": "AML4TzrfCh8x",
        "outputId": "6404ae78-539c-462f-8092-b66df0e8a272"
      },
      "execution_count": null,
      "outputs": [
        {
          "name": "stdout",
          "output_type": "stream",
          "text": [
            "ingrese la palabra que desee: 2\n"
          ]
        },
        {
          "output_type": "execute_result",
          "data": {
            "text/plain": [
              "['2']"
            ]
          },
          "metadata": {},
          "execution_count": 19
        }
      ]
    },
    {
      "cell_type": "markdown",
      "source": [
        "#Ejercicio 2 by Daniel Amado"
      ],
      "metadata": {
        "id": "DiDdYlvRC6AZ"
      }
    },
    {
      "cell_type": "code",
      "source": [
        "lista1=[2,7,10,9,8]\n",
        "lista2=[elementos**2 for elementos in lista1 if elementos%2 == 0]\n",
        "lista2 "
      ],
      "metadata": {
        "colab": {
          "base_uri": "https://localhost:8080/"
        },
        "id": "aK2adY72DA7x",
        "outputId": "2121bb66-651a-44c0-b46f-b97d10b62fb4"
      },
      "execution_count": null,
      "outputs": [
        {
          "output_type": "execute_result",
          "data": {
            "text/plain": [
              "[4, 100, 64]"
            ]
          },
          "metadata": {},
          "execution_count": 20
        }
      ]
    },
    {
      "cell_type": "markdown",
      "source": [
        "#Ejercicio 3 by Iván"
      ],
      "metadata": {
        "id": "rr0pM3_tDlGB"
      }
    },
    {
      "cell_type": "code",
      "source": [
        "import random \n",
        "capitan=[random.randrange(1,30) for i in range(9)]\n",
        "#randrange: rango donde se va generar la lista aleatoria\n",
        "print(\"imprimir numeros aleatorios de la lista: \", str(capitan))"
      ],
      "metadata": {
        "colab": {
          "base_uri": "https://localhost:8080/"
        },
        "id": "-GxV2OP1EBnG",
        "outputId": "18f59820-e17c-4e8b-ba28-fd72b3de7469"
      },
      "execution_count": null,
      "outputs": [
        {
          "output_type": "stream",
          "name": "stdout",
          "text": [
            "imprimir numeros aleatorios de la lista:  [5, 28, 26, 19, 28, 26, 14, 7, 25]\n"
          ]
        }
      ]
    },
    {
      "cell_type": "markdown",
      "source": [
        "#Ejercicio 4 by Juan Pablo"
      ],
      "metadata": {
        "id": "gdkrh7NsEwhk"
      }
    },
    {
      "cell_type": "code",
      "source": [
        "precios=[]\n",
        "print(\"ingresar los numeros que quiera realizar un descuento: \")\n",
        "det=True\n",
        "while det:\n",
        "  num=int(input(\"0 para terminar ejecucion: \"))\n",
        "  precios.append(num)\n",
        "  det=False if num == 0 else num>0\n",
        "des=float(input(\"ingrese el descuento: \"))\n",
        "presdes=[precio*des/100 for precio in precios]\n",
        "presdes.pop(-1)\n",
        "print(\"Este es el valor que se le resta a cada número\", presdes)"
      ],
      "metadata": {
        "colab": {
          "base_uri": "https://localhost:8080/"
        },
        "id": "kze2Q-ypFFZw",
        "outputId": "8e799cd6-551a-48aa-a782-8249ac790805"
      },
      "execution_count": null,
      "outputs": [
        {
          "output_type": "stream",
          "name": "stdout",
          "text": [
            "ingresar los numeros que quiera realizar un descuento: \n",
            "0 para terminar ejecucion: 10\n",
            "0 para terminar ejecucion: 20\n",
            "0 para terminar ejecucion: 30\n",
            "0 para terminar ejecucion: 0\n",
            "ingrese el descuento: 15\n",
            "Este es el valor que se le resta a cada número [1.5, 3.0, 4.5]\n"
          ]
        }
      ]
    },
    {
      "cell_type": "markdown",
      "source": [
        "#Ejercicio 5 by Cristian "
      ],
      "metadata": {
        "id": "zZ33oY73HgFv"
      }
    },
    {
      "cell_type": "code",
      "source": [
        "num=[]\n",
        "for i in range(6):\n",
        "  num.append(int(input(\"ingresa el numero ganador: \")))\n",
        "num.sort()\n",
        "print(\"los numeros ganadores del baloto son: \" + str(num))"
      ],
      "metadata": {
        "colab": {
          "base_uri": "https://localhost:8080/"
        },
        "id": "XnqhVy1CHoir",
        "outputId": "4574ffc5-72d9-466a-d92a-8490e53f01d2"
      },
      "execution_count": null,
      "outputs": [
        {
          "output_type": "stream",
          "name": "stdout",
          "text": [
            "ingresa el numero ganador: 2\n",
            "ingresa el numero ganador: 3\n",
            "ingresa el numero ganador: 3\n",
            "ingresa el numero ganador: 2\n",
            "ingresa el numero ganador: 2\n",
            "ingresa el numero ganador: 2\n",
            "los numeros ganadores del baloto son: [2, 2, 2, 2, 3, 3]\n"
          ]
        }
      ]
    },
    {
      "cell_type": "markdown",
      "source": [
        "#Ejercicio 6 by Julito\n"
      ],
      "metadata": {
        "id": "AKToR-OnwMQe"
      }
    },
    {
      "cell_type": "code",
      "source": [
        "n=int(input(\"ingresa el numero de palabras que vas a ingresar: \"))\n",
        "lista=[]\n",
        "for i in range(n):\n",
        "  l=input(\"ingresa una palabra: \")\n",
        "  if l.isupper():lista.append(l)\n",
        "  if l.islower():lista.append(l)"
      ],
      "metadata": {
        "colab": {
          "base_uri": "https://localhost:8080/"
        },
        "id": "10mHGo8rwTUU",
        "outputId": "9e259659-726e-4cd3-ba0f-1254ebe3e820"
      },
      "execution_count": null,
      "outputs": [
        {
          "name": "stdout",
          "output_type": "stream",
          "text": [
            "ingresa el numero de palabras que vas a ingresar: 2\n",
            "ingresa una palabra: HOLA\n",
            "ingresa una palabra: adios\n"
          ]
        }
      ]
    },
    {
      "cell_type": "code",
      "source": [
        "lista"
      ],
      "metadata": {
        "colab": {
          "base_uri": "https://localhost:8080/"
        },
        "id": "JMai_YvbznoS",
        "outputId": "1788f49e-fcee-41b2-d5d3-537415abd9db"
      },
      "execution_count": null,
      "outputs": [
        {
          "output_type": "execute_result",
          "data": {
            "text/plain": [
              "['HOLA', 'adios']"
            ]
          },
          "metadata": {},
          "execution_count": 8
        }
      ]
    },
    {
      "cell_type": "code",
      "source": [
        "n=int(input(\"ingresa el numero de palabras que vas a ingresar: \"))\n",
        "lista3=[]\n",
        "for i in range(n):\n",
        "  l=input(\"ingresa una palabra: \")\n",
        "  lista3.append(l)\n",
        "lista_comprimida_M=[elemento for elemento in lista3 if elemento.isupper()]\n",
        "lista_comprimida_m=[elemento for elemento in lista3 if elemento.islower()]\n",
        "print(\"las palabras escritas en mayuscula son: \")\n",
        "print(lista_comprimida_M)\n",
        "print(\"las palabras escritas en minuscula son: \")\n",
        "print(lista_comprimida_m)"
      ],
      "metadata": {
        "colab": {
          "base_uri": "https://localhost:8080/"
        },
        "id": "65O3rFuZ0Ya2",
        "outputId": "3622cc34-be81-4ba9-bee8-3af35dbf0524"
      },
      "execution_count": null,
      "outputs": [
        {
          "output_type": "stream",
          "name": "stdout",
          "text": [
            "ingresa el numero de palabras que vas a ingresar: 2\n",
            "ingresa una palabra: HOLA\n",
            "ingresa una palabra: adios\n",
            "las palabras escritas en mayuscula son: \n",
            "['HOLA']\n",
            "las palabras escritas en minuscula son: \n",
            "['adios']\n"
          ]
        }
      ]
    },
    {
      "cell_type": "code",
      "source": [
        "lista_comprimida_M=list(map(lambda elemento:True if elemento.isupper()else False, lista3))\n",
        "lista_comprimida_m=list(map(lambda elemento:True if elemento.islower()else False, lista3))\n",
        "print(\"las palabras escritas en mayuscula son: \")\n",
        "print(lista_comprimida_M)\n",
        "print(\"las palabras escritas en minuscula son: \")\n",
        "print(lista_comprimida_m)"
      ],
      "metadata": {
        "colab": {
          "base_uri": "https://localhost:8080/"
        },
        "id": "hNrpdGGS3vVa",
        "outputId": "8c7cd30e-f289-48d4-b6a0-424c81faebbe"
      },
      "execution_count": null,
      "outputs": [
        {
          "output_type": "stream",
          "name": "stdout",
          "text": [
            "las palabras escritas en mayuscula son: \n",
            "[True, False]\n",
            "las palabras escritas en minuscula son: \n",
            "[False, True]\n"
          ]
        }
      ]
    },
    {
      "cell_type": "markdown",
      "source": [
        "#Ejercicio 7 by Leslie Karina jeje"
      ],
      "metadata": {
        "id": "_TjmNlxA6TRt"
      }
    },
    {
      "cell_type": "code",
      "source": [
        "def pali(word):\n",
        "  rev=word[::-1]\n",
        "  return word==rev\n",
        "word=(input(\"digita una palabra: \")).lower()\n",
        "final=pali(word)\n",
        "if final == True:\n",
        "  print(f\"{word} es una palabra palindromo\")\n",
        "else: \n",
        "  print(f\"{word} no es una palabra palindromo\")"
      ],
      "metadata": {
        "colab": {
          "base_uri": "https://localhost:8080/"
        },
        "id": "H2JHhb_E6ace",
        "outputId": "6fa604b2-d1af-4afb-b16e-b0466e2dffc3"
      },
      "execution_count": null,
      "outputs": [
        {
          "output_type": "stream",
          "name": "stdout",
          "text": [
            "digita una palabra: ANa\n",
            "ana es una palabra palindromo\n"
          ]
        }
      ]
    },
    {
      "cell_type": "code",
      "source": [
        "c=int(input(\"digita la cantidad de elementos que deseas ingresar: \"))\n",
        "lista1=[]\n",
        "for i in range(c):\n",
        "  word=input(\"escribe aqui: \").lower()\n",
        "  lista1.append(word)\n",
        "print(lista1)\n",
        "lista2=list((map(lambda x:True if x==x[::-1] else False,lista1)))\n",
        "lista2"
      ],
      "metadata": {
        "colab": {
          "base_uri": "https://localhost:8080/"
        },
        "id": "Ooxo3uZx7oX0",
        "outputId": "533fd60f-379a-4f10-9921-2c8daa9cc6e1"
      },
      "execution_count": null,
      "outputs": [
        {
          "output_type": "stream",
          "name": "stdout",
          "text": [
            "digita la cantidad de elementos que deseas ingresar: 2\n",
            "escribe aqui: aNa\n",
            "escribe aqui: AnNa\n",
            "['ana', 'anna']\n"
          ]
        },
        {
          "output_type": "execute_result",
          "data": {
            "text/plain": [
              "[True, True]"
            ]
          },
          "metadata": {},
          "execution_count": 25
        }
      ]
    },
    {
      "cell_type": "markdown",
      "source": [
        "#Ejercicio 8 by Manuel"
      ],
      "metadata": {
        "id": "1Wh4unjz9lUR"
      }
    },
    {
      "cell_type": "code",
      "source": [
        "import random\n",
        "stock=[\"martillo\",\"alicate\",\"clavo\",\"perno\"]\n",
        "cality=[\"good\",\"fail\"]\n",
        "a=[]\n",
        "for i in stock:\n",
        "  a.append((i,random.choice(cality)))\n",
        "listg=[]\n",
        "listf=[]\n",
        "for x in a:\n",
        "  if \"good\" in x:\n",
        "    listg.append(x)\n",
        "    print(listg)\n",
        "  elif \"fail\" in x:\n",
        "    listf.append(x)\n",
        "    print(listf)"
      ],
      "metadata": {
        "colab": {
          "base_uri": "https://localhost:8080/"
        },
        "id": "6ILGq2X3-C94",
        "outputId": "a0942a7e-a51b-47e2-d515-f98d022f5f12"
      },
      "execution_count": null,
      "outputs": [
        {
          "output_type": "stream",
          "name": "stdout",
          "text": [
            "[('martillo', 'good')]\n",
            "[('alicate', 'fail')]\n",
            "[('alicate', 'fail'), ('clavo', 'fail')]\n",
            "[('martillo', 'good'), ('perno', 'good')]\n"
          ]
        }
      ]
    },
    {
      "cell_type": "code",
      "source": [
        "import random\n",
        "stock=[\"martillo\",\"alicate\",\"clavo\",\"perno\"]\n",
        "cality=[\"good\",\"fail\"]\n",
        "a=[]\n",
        "for i in stock:\n",
        "  a.append((i,random.choice(cality)))\n",
        "listg=[]\n",
        "listf=[]\n",
        "listg=[x for x in a if \"good\" in x]\n",
        "listf=[x for x in a if \"fail\" in x]\n",
        "print(listf, listg)"
      ],
      "metadata": {
        "colab": {
          "base_uri": "https://localhost:8080/"
        },
        "id": "m1MKMyGp_irx",
        "outputId": "0b079593-73ca-4b38-be5c-b8ef6a7807dc"
      },
      "execution_count": null,
      "outputs": [
        {
          "output_type": "stream",
          "name": "stdout",
          "text": [
            "[('martillo', 'fail'), ('alicate', 'fail'), ('clavo', 'fail')] [('perno', 'good')]\n"
          ]
        }
      ]
    },
    {
      "cell_type": "code",
      "source": [
        "import random\n",
        "stock=[\"martillo\",\"alicate\",\"clavo\",\"perno\"]\n",
        "cality=[\"good\",\"fail\"]\n",
        "a=[]\n",
        "for i in stock:\n",
        "  a.append((i,random.choice(cality)))\n",
        "listg=[]\n",
        "listf=[]\n",
        "listg=list(filter(lambda a:a == \"good\", a))\n",
        "print(listg)"
      ],
      "metadata": {
        "colab": {
          "base_uri": "https://localhost:8080/"
        },
        "id": "FCrmHuPmAaRH",
        "outputId": "6dce18b7-b864-45ab-da07-74f71c650a9c"
      },
      "execution_count": null,
      "outputs": [
        {
          "output_type": "stream",
          "name": "stdout",
          "text": [
            "[]\n"
          ]
        }
      ]
    },
    {
      "cell_type": "markdown",
      "source": [
        "#Ejercicio 9 by Paula\n"
      ],
      "metadata": {
        "id": "x2mZWmUmB1W_"
      }
    },
    {
      "cell_type": "code",
      "source": [
        "def capitalizar(oracion):\n",
        "  lista1=[]\n",
        "  for l in n1:\n",
        "    lista1.append(l)\n",
        "    lista1[0]=n1[0].upper()\n",
        "  print(\"\".join(lista1))"
      ],
      "metadata": {
        "id": "wkDcpKbXGihm"
      },
      "execution_count": null,
      "outputs": []
    },
    {
      "cell_type": "code",
      "source": [
        "n1=input(\"ingresa una oracion: \")\n",
        "oracion=capitalizar(n1)\n",
        "oracion"
      ],
      "metadata": {
        "colab": {
          "base_uri": "https://localhost:8080/"
        },
        "id": "TYt59YzbHdH0",
        "outputId": "a57f585e-84e2-4fa8-e876-6ad6611b5db8"
      },
      "execution_count": null,
      "outputs": [
        {
          "output_type": "stream",
          "name": "stdout",
          "text": [
            "ingresa una oracion: djnfdn\n",
            "Djnfdn\n"
          ]
        }
      ]
    },
    {
      "cell_type": "code",
      "source": [
        "listap=[]\n",
        "n=input(\"ingresa una oracion: \")\n",
        "for l in n:\n",
        "  listap.append(1)\n",
        "  listap[0]=n[0].upper()\n",
        "print(\"\".join(listap))"
      ],
      "metadata": {
        "colab": {
          "base_uri": "https://localhost:8080/",
          "height": 217
        },
        "id": "QD6oCMDMIsUh",
        "outputId": "d339f7e8-1006-434e-9414-c6117eeaed50"
      },
      "execution_count": null,
      "outputs": [
        {
          "name": "stdout",
          "output_type": "stream",
          "text": [
            "ingresa una oracion: dkhfak\n"
          ]
        },
        {
          "output_type": "error",
          "ename": "TypeError",
          "evalue": "ignored",
          "traceback": [
            "\u001b[0;31m---------------------------------------------------------------------------\u001b[0m",
            "\u001b[0;31mTypeError\u001b[0m                                 Traceback (most recent call last)",
            "\u001b[0;32m<ipython-input-45-bfa0b1782e0a>\u001b[0m in \u001b[0;36m<module>\u001b[0;34m\u001b[0m\n\u001b[1;32m      4\u001b[0m   \u001b[0mlistap\u001b[0m\u001b[0;34m.\u001b[0m\u001b[0mappend\u001b[0m\u001b[0;34m(\u001b[0m\u001b[0;36m1\u001b[0m\u001b[0;34m)\u001b[0m\u001b[0;34m\u001b[0m\u001b[0;34m\u001b[0m\u001b[0m\n\u001b[1;32m      5\u001b[0m   \u001b[0mlistap\u001b[0m\u001b[0;34m[\u001b[0m\u001b[0;36m0\u001b[0m\u001b[0;34m]\u001b[0m\u001b[0;34m=\u001b[0m\u001b[0mn\u001b[0m\u001b[0;34m[\u001b[0m\u001b[0;36m0\u001b[0m\u001b[0;34m]\u001b[0m\u001b[0;34m.\u001b[0m\u001b[0mupper\u001b[0m\u001b[0;34m(\u001b[0m\u001b[0;34m)\u001b[0m\u001b[0;34m\u001b[0m\u001b[0;34m\u001b[0m\u001b[0m\n\u001b[0;32m----> 6\u001b[0;31m \u001b[0mprint\u001b[0m\u001b[0;34m(\u001b[0m\u001b[0;34m\"\"\u001b[0m\u001b[0;34m.\u001b[0m\u001b[0mjoin\u001b[0m\u001b[0;34m(\u001b[0m\u001b[0mlistap\u001b[0m\u001b[0;34m)\u001b[0m\u001b[0;34m)\u001b[0m\u001b[0;34m\u001b[0m\u001b[0;34m\u001b[0m\u001b[0m\n\u001b[0m",
            "\u001b[0;31mTypeError\u001b[0m: sequence item 1: expected str instance, int found"
          ]
        }
      ]
    },
    {
      "cell_type": "markdown",
      "source": [
        "#EJercicio 10 by Francisco"
      ],
      "metadata": {
        "id": "BWGlbFXoJhj-"
      }
    },
    {
      "cell_type": "code",
      "source": [
        "import random\n",
        "palabras=[\"a\",\"e\",\"i\",\"o\",\"u\"]\n",
        "numero=[1,2,3,4,5,6,7,8,9]\n",
        "generador=[]\n",
        "for i in range(0,5):\n",
        "  generador.append(random.choice(palabras))\n",
        "  generador.append(random.choice(numero))\n",
        "print(generador)"
      ],
      "metadata": {
        "colab": {
          "base_uri": "https://localhost:8080/"
        },
        "id": "okiox7rZJmbW",
        "outputId": "259a3ab8-f9ca-43d7-915f-c4e9f70e640d"
      },
      "execution_count": null,
      "outputs": [
        {
          "output_type": "stream",
          "name": "stdout",
          "text": [
            "['u', 3, 'o', 6, 'e', 1, 'o', 3, 'e', 9]\n"
          ]
        }
      ]
    },
    {
      "cell_type": "code",
      "source": [
        "import random\n",
        "x=input(\"ingrese la palabra de la contraseña: \")\n",
        "palabras=[letra for letra in x]\n",
        "numeros=[num for num in range(0,10)]\n",
        "generador=[random.choice(numeros) or random.choice(palabras) for num in range(0,11)]\n",
        "print(generador)"
      ],
      "metadata": {
        "colab": {
          "base_uri": "https://localhost:8080/"
        },
        "id": "q3cMiv-1KFjH",
        "outputId": "2afdd0ad-f78f-4ff7-c448-f465573ce7a5"
      },
      "execution_count": null,
      "outputs": [
        {
          "output_type": "stream",
          "name": "stdout",
          "text": [
            "ingrese la palabra de la contraseña: asdfghjhklñ\n",
            "[1, 6, 'ñ', 6, 1, 1, 8, 9, 5, 'g', 7]\n"
          ]
        }
      ]
    },
    {
      "cell_type": "code",
      "source": [
        "x=input(\"ingrese la palabra de la contraseña: \")\n",
        "palabras=[letra for letra in x]\n",
        "numeros=[num for num in range(0,10)]\n",
        "generador2=[random.choice(list(map(lambda x:x, numeros))) or random.choice(sorted(palabras, key=lambda letra:letra in palabras))for num in range(0,11)]\n",
        "print(generador2)"
      ],
      "metadata": {
        "colab": {
          "base_uri": "https://localhost:8080/"
        },
        "id": "9ro-JqMALRQF",
        "outputId": "5ea96865-3147-4af3-c462-57ea29c4849a"
      },
      "execution_count": null,
      "outputs": [
        {
          "output_type": "stream",
          "name": "stdout",
          "text": [
            "ingrese la palabra de la contraseña: asdfghjklñ\n",
            "[8, 5, 5, 8, 1, 2, 8, 7, 8, 9, 6]\n"
          ]
        }
      ]
    },
    {
      "cell_type": "markdown",
      "source": [
        "#Ejercicio 11 by Ana"
      ],
      "metadata": {
        "id": "rEBoW_heNIxC"
      }
    },
    {
      "cell_type": "code",
      "source": [],
      "metadata": {
        "id": "kylqrDs3NNyy"
      },
      "execution_count": null,
      "outputs": []
    }
  ]
}