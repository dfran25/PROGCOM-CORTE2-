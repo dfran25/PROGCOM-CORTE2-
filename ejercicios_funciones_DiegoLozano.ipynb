{
  "nbformat": 4,
  "nbformat_minor": 0,
  "metadata": {
    "colab": {
      "provenance": []
    },
    "kernelspec": {
      "name": "python3",
      "display_name": "Python 3"
    },
    "language_info": {
      "name": "python"
    }
  },
  "cells": [
    {
      "cell_type": "code",
      "execution_count": 3,
      "metadata": {
        "id": "KD-htZcWkRLG"
      },
      "outputs": [],
      "source": [
        "def mayor():\n",
        "  a=int(input(\"Ingrese el numero a comparar\"))\n",
        "  b=int(input(\"Ingrese otro numero a comparar\"))\n",
        "  if a<b :\n",
        "   print(f\"{b} es el mayor\")\n",
        "  else:\n",
        "    print(f\"{a} es el menor\")"
      ]
    },
    {
      "cell_type": "code",
      "source": [
        "mayor()"
      ],
      "metadata": {
        "colab": {
          "base_uri": "https://localhost:8080/"
        },
        "id": "Uuiud4j4m9xR",
        "outputId": "1cdb53c5-bfd6-45b5-e760-5cf05acd5cdd"
      },
      "execution_count": 4,
      "outputs": [
        {
          "output_type": "stream",
          "name": "stdout",
          "text": [
            "Ingrese el numero a comparar5\n",
            "Ingrese otro numero a comparar4\n",
            "5 es el menor\n"
          ]
        }
      ]
    },
    {
      "cell_type": "code",
      "source": [
        "def mayortres():\n",
        "  a=int(input(\"Ingrese un numero a comparar\"))\n",
        "  b=int(input(\"Ingrese otro numero a comparar\"))\n",
        "  c=int(input(\"Ingrese otro numero a comparar\"))\n",
        "  if a>b and a>c:\n",
        "    if b>c:\n",
        "      print(f\"{a} es el mayor de todos, {b} el numero medio y {c} es el menor\")\n",
        "    else:\n",
        "      print(f\"{a} es el mayor de todos , {c} el numero medio y {b} es el menor\")\n",
        "  elif b>a and b>c:\n",
        "    if a>c:\n",
        "      print(f\"{b} es el mayor de todos, {a} el numero medio y {c} es el menor\")\n",
        "    else:\n",
        "      print(f\"{b} es el mayor de todos, {c} el numero medio y {a} es el menor\")\n",
        "  elif c>a and c>b:\n",
        "    if a>b:\n",
        "      print(f\"{c} es el mayor de todos, {a}el numero medio y {b} es el menor\")\n",
        "    else:\n",
        "      print(f\"{c} es el mayor de todos , {b} el numero medio y {a} es el menor\")\n"
      ],
      "metadata": {
        "id": "4COrEb0OnEs2"
      },
      "execution_count": 5,
      "outputs": []
    },
    {
      "cell_type": "code",
      "source": [
        "mayortres()"
      ],
      "metadata": {
        "colab": {
          "base_uri": "https://localhost:8080/"
        },
        "id": "V5ZT4bWCqa_D",
        "outputId": "4bc3efe3-2b74-4eca-9820-d5c12b5f2fe7"
      },
      "execution_count": 6,
      "outputs": [
        {
          "output_type": "stream",
          "name": "stdout",
          "text": [
            "Ingrese un numero a comparar5\n",
            "Ingrese otro numero a comparar4\n",
            "Ingrese otro numero a comparar6\n",
            "6 es el mayor de todos, 5el numero medio y 4 es el menor\n"
          ]
        }
      ]
    },
    {
      "cell_type": "code",
      "source": [
        "def mayortres2(x,y,z):\n",
        "  mayortres(x,y,z)"
      ],
      "metadata": {
        "id": "GBF-w5LqqjoH"
      },
      "execution_count": 9,
      "outputs": []
    },
    {
      "cell_type": "code",
      "source": [],
      "metadata": {
        "colab": {
          "base_uri": "https://localhost:8080/",
          "height": 165
        },
        "id": "R6F3xu7WsZlk",
        "outputId": "036f58be-0233-48d2-e013-2e9ed644c6aa"
      },
      "execution_count": 10,
      "outputs": [
        {
          "output_type": "error",
          "ename": "TypeError",
          "evalue": "ignored",
          "traceback": [
            "\u001b[0;31m---------------------------------------------------------------------------\u001b[0m",
            "\u001b[0;31mTypeError\u001b[0m                                 Traceback (most recent call last)",
            "\u001b[0;32m<ipython-input-10-abc7662b9d58>\u001b[0m in \u001b[0;36m<module>\u001b[0;34m\u001b[0m\n\u001b[0;32m----> 1\u001b[0;31m \u001b[0mmayortres2\u001b[0m\u001b[0;34m(\u001b[0m\u001b[0;34m)\u001b[0m\u001b[0;34m\u001b[0m\u001b[0;34m\u001b[0m\u001b[0m\n\u001b[0m",
            "\u001b[0;31mTypeError\u001b[0m: mayortres2() missing 3 required positional arguments: 'x', 'y', and 'z'"
          ]
        }
      ]
    },
    {
      "cell_type": "code",
      "source": [
        "def sumar():\n",
        "  a=int(input(\"ingrese el primer numero a ingresar en la lista\"))\n",
        "  b=int(input(\"ingrese el segundo numero a ingresar en la lista\"))\n",
        "  c=int(input(\"ingrese el tercer numero a ingresar en la lista\"))\n",
        "  lista=[a,b,c]\n",
        "  x=a+b+c\n",
        "  print(f\"{x} la suma de la lista fue y la lista es {lista}\")"
      ],
      "metadata": {
        "id": "U752HoTFvLQx"
      },
      "execution_count": 12,
      "outputs": []
    },
    {
      "cell_type": "code",
      "source": [
        "sumar()"
      ],
      "metadata": {
        "colab": {
          "base_uri": "https://localhost:8080/"
        },
        "id": "H8LFYQHQv5Om",
        "outputId": "ce077705-478e-461a-e444-fa8866acba3d"
      },
      "execution_count": 13,
      "outputs": [
        {
          "output_type": "stream",
          "name": "stdout",
          "text": [
            "ingrese el primer numero a ingresar en la lista5\n",
            "ingrese el segundo numero a ingresar en la lista4\n",
            "ingrese el tercer numero a ingresar en la lista8\n",
            "17 la suma de la lista fue y la lista es [5, 4, 8]\n"
          ]
        }
      ]
    },
    {
      "cell_type": "code",
      "source": [
        "def sumar4():\n",
        "  a=int(input(\"ingrese el primer numero a ingresar en la lista\"))\n",
        "  b=int(input(\"ingrese el segundo numero a ingresar en la lista\"))\n",
        "  c=int(input(\"ingrese el tercer numero a ingresar en la lista\"))\n",
        "  d=int(input(\"Ingrese el cuarto numero de la lista\"))\n",
        "  lista=[a,b,c,d]\n",
        "  x=a+b+c+d\n",
        "  print(f\"{x} la suma de la lista fue y la lista es {lista}\")"
      ],
      "metadata": {
        "id": "yiDhSpazv-ar"
      },
      "execution_count": 14,
      "outputs": []
    },
    {
      "cell_type": "code",
      "source": [
        "sumar4()"
      ],
      "metadata": {
        "colab": {
          "base_uri": "https://localhost:8080/"
        },
        "id": "D5WSrzuowJVf",
        "outputId": "b2a68c74-8ecc-4f7b-dc4a-9741eebb7a6b"
      },
      "execution_count": 15,
      "outputs": [
        {
          "output_type": "stream",
          "name": "stdout",
          "text": [
            "ingrese el primer numero a ingresar en la lista8\n",
            "ingrese el segundo numero a ingresar en la lista6\n",
            "ingrese el tercer numero a ingresar en la lista55\n",
            "Ingrese el cuarto numero de la lista2\n",
            "71 la suma de la lista fue y la lista es [8, 6, 55, 2]\n"
          ]
        }
      ]
    },
    {
      "cell_type": "code",
      "source": [
        "def multi():\n",
        "  a=int(input(\"ingrese el primer numero a ingresar en la lista\"))\n",
        "  b=int(input(\"ingrese el segundo numero a ingresar en la lista\"))\n",
        "  c=int(input(\"ingrese el tercer numero a ingresar en la lista\"))\n",
        "  lista=[a,b,c]\n",
        "  x=a*b*c\n",
        "  print(f\"{x} la multiplicación de la lista fue y la lista es {lista}\")"
      ],
      "metadata": {
        "id": "r87EWROTwSyR"
      },
      "execution_count": 16,
      "outputs": []
    },
    {
      "cell_type": "code",
      "source": [
        "multi()"
      ],
      "metadata": {
        "colab": {
          "base_uri": "https://localhost:8080/"
        },
        "id": "L-4rirY6w91o",
        "outputId": "7fde926f-d942-4d0f-cac4-cf449e66d369"
      },
      "execution_count": 18,
      "outputs": [
        {
          "output_type": "stream",
          "name": "stdout",
          "text": [
            "ingrese el primer numero a ingresar en la lista8\n",
            "ingrese el segundo numero a ingresar en la lista4\n",
            "ingrese el tercer numero a ingresar en la lista5\n",
            "160 la suma de la lista fue y la lista es [8, 4, 5]\n"
          ]
        }
      ]
    },
    {
      "cell_type": "code",
      "source": [
        "def multi4():\n",
        "  a=int(input(\"ingrese el primer numero a ingresar en la lista\"))\n",
        "  b=int(input(\"ingrese el segundo numero a ingresar en la lista\"))\n",
        "  c=int(input(\"ingrese el tercer numero a ingresar en la lista\"))\n",
        "  d=int(input(\"ingrese el cuarto numero de la lista\"))\n",
        "  lista=[a,b,c,d]\n",
        "  x=a*b*c*d\n",
        "  print(f\"{x} la suma de la lista fue y la lista es {lista}\")"
      ],
      "metadata": {
        "id": "tAB_GO59xF5K"
      },
      "execution_count": 19,
      "outputs": []
    },
    {
      "cell_type": "code",
      "source": [
        "multi4()"
      ],
      "metadata": {
        "colab": {
          "base_uri": "https://localhost:8080/"
        },
        "id": "kM1T6yoAxxQp",
        "outputId": "d504010b-ac1a-4ed4-93a1-dfe7326d1f28"
      },
      "execution_count": 20,
      "outputs": [
        {
          "output_type": "stream",
          "name": "stdout",
          "text": [
            "ingrese el primer numero a ingresar en la lista2\n",
            "ingrese el segundo numero a ingresar en la lista3\n",
            "ingrese el tercer numero a ingresar en la lista4\n",
            "ingrese el cuarto numero de la lista5\n",
            "120 la suma de la lista fue y la lista es [2, 3, 4, 5]\n"
          ]
        }
      ]
    },
    {
      "cell_type": "code",
      "source": [
        "def invertir():\n",
        " a=str(input(\"Ingrese una palabra a invertir\"))\n",
        " b=reversed(a)\n",
        " print(b)"
      ],
      "metadata": {
        "id": "YwaUKU03zY_X"
      },
      "execution_count": 26,
      "outputs": []
    },
    {
      "cell_type": "code",
      "source": [
        "invertir()"
      ],
      "metadata": {
        "colab": {
          "base_uri": "https://localhost:8080/"
        },
        "id": "-ywrwHnAzprd",
        "outputId": "ce22025f-1fd7-44a0-d725-64780d9960f5"
      },
      "execution_count": 27,
      "outputs": [
        {
          "output_type": "stream",
          "name": "stdout",
          "text": [
            "Ingrese una palabra a invertirhola\n",
            "<reversed object at 0x7f05b05911d0>\n"
          ]
        }
      ]
    },
    {
      "cell_type": "code",
      "source": [
        "def factorial():\n",
        "  p=int(input(\"ingrese el numero al cual se le calcula el factorial\"))\n",
        "  fact=1\n",
        "  for i in range(1,p+1):\n",
        "    fact=fact*i\n",
        "  print(fact)"
      ],
      "metadata": {
        "id": "2uq1M3P40I49"
      },
      "execution_count": 37,
      "outputs": []
    },
    {
      "cell_type": "code",
      "source": [
        "factorial()"
      ],
      "metadata": {
        "colab": {
          "base_uri": "https://localhost:8080/"
        },
        "id": "tZvVf_W511s9",
        "outputId": "827e003c-db13-4c3a-ecff-d0b86cd088dd"
      },
      "execution_count": 40,
      "outputs": [
        {
          "output_type": "stream",
          "name": "stdout",
          "text": [
            "ingrese el numero al cual se le calcula el factorial8\n",
            "40320\n"
          ]
        }
      ]
    },
    {
      "cell_type": "code",
      "source": [
        "def "
      ],
      "metadata": {
        "id": "nSIJblnz3SaU"
      },
      "execution_count": null,
      "outputs": []
    },
    {
      "cell_type": "code",
      "source": [],
      "metadata": {
        "id": "8EZP5UmX1cjP"
      },
      "execution_count": null,
      "outputs": []
    }
  ]
}