{
  "nbformat": 4,
  "nbformat_minor": 0,
  "metadata": {
    "colab": {
      "provenance": [],
      "authorship_tag": "ABX9TyO7n0AifoUz9QOsLvo29DVO",
      "include_colab_link": true
    },
    "kernelspec": {
      "name": "python3",
      "display_name": "Python 3"
    },
    "language_info": {
      "name": "python"
    }
  },
  "cells": [
    {
      "cell_type": "markdown",
      "metadata": {
        "id": "view-in-github",
        "colab_type": "text"
      },
      "source": [
        "<a href=\"https://colab.research.google.com/github/dfran25/PROGCOM-CORTE2-/blob/main/Espada.ipynb\" target=\"_parent\"><img src=\"https://colab.research.google.com/assets/colab-badge.svg\" alt=\"Open In Colab\"/></a>"
      ]
    },
    {
      "cell_type": "code",
      "execution_count": 1,
      "metadata": {
        "id": "-lzlBaCaDVxx"
      },
      "outputs": [],
      "source": [
        "class Espadas(): #clase madre\n",
        "  nombre=\"soy una espada\"\n",
        "  daño=\"causo daño\"\n",
        "  def __init__(self,nombre,daño):\n",
        "    self.nombre=nombre\n",
        "    self.daño=daño\n",
        "  def __repr__(self):\n",
        "    return f\"espada de :{self.nombre}, y causa : {self.daño} de daño\"\n"
      ]
    },
    {
      "cell_type": "code",
      "source": [
        "class Espada_elemento(Espadas): #clase hija\n",
        "  def masatributos(self,elemento,tamaño,durabilidad,color,origen,temperatura,):\n",
        "    self.elemento=elemento\n",
        "    self.tamaño=tamaño\n",
        "    self.durabilidad=durabilidad\n",
        "    self.color=color\n",
        "    self.origen=origen\n",
        "    self.temperatura=temperatura"
      ],
      "metadata": {
        "id": "0BGYrMxYGnui"
      },
      "execution_count": 26,
      "outputs": []
    },
    {
      "cell_type": "code",
      "source": [
        "espada1=Espada_elemento(\"Espada de fuego\",200)#atributo clase madre"
      ],
      "metadata": {
        "id": "VbGc4zpGIGqh"
      },
      "execution_count": 27,
      "outputs": []
    },
    {
      "cell_type": "code",
      "source": [
        "print(espada1)"
      ],
      "metadata": {
        "colab": {
          "base_uri": "https://localhost:8080/"
        },
        "id": "zLCPZzJcJJfr",
        "outputId": "f87c8493-1d8c-4742-ce80-26543c821b39"
      },
      "execution_count": 28,
      "outputs": [
        {
          "output_type": "stream",
          "name": "stdout",
          "text": [
            "espada de :Espada de fuego,y causa : 200 de daño\n"
          ]
        }
      ]
    },
    {
      "cell_type": "code",
      "source": [
        "espada1.masatributos(\"fuego\",25,100,\"multicolor\",\"Escamas de dragon\",\"100000 grados\")#atributos clase hija"
      ],
      "metadata": {
        "id": "1xwGKgzwJliv"
      },
      "execution_count": 29,
      "outputs": []
    },
    {
      "cell_type": "code",
      "source": [
        "espada1.__dict__ #nombre y daño heradados"
      ],
      "metadata": {
        "colab": {
          "base_uri": "https://localhost:8080/"
        },
        "id": "wAV5m0FkKaUW",
        "outputId": "33a347e4-03f7-4ce3-91e5-c647764ace78"
      },
      "execution_count": 30,
      "outputs": [
        {
          "output_type": "execute_result",
          "data": {
            "text/plain": [
              "{'nombre': 'Espada de fuego',\n",
              " 'daño': 200,\n",
              " 'elemento': 'fuego',\n",
              " 'tamaño': 25,\n",
              " 'durabilidad': 100,\n",
              " 'color': 'multicolor',\n",
              " 'origen': 'Escamas de dragon',\n",
              " 'temperatura': '100000 grados'}"
            ]
          },
          "metadata": {},
          "execution_count": 30
        }
      ]
    },
    {
      "cell_type": "code",
      "source": [
        "class Saiyayin():\n",
        "\n",
        "  def __init__(self,oficio,planeta,piernas,brazos,cola,transformacionposible,niveldepoder):\n",
        "    self.oficio=oficio\n",
        "    self.planeta=planeta\n",
        "    self.piernas=piernas\n",
        "    self.brazos=brazos\n",
        "    self.cola=cola\n",
        "    self.transformacionposible=transformacionposible\n",
        "    self.niveldepoder=niveldepoder\n",
        "  def __repr__(self):\n",
        "    return f\"su oficio es :{self.oficio}, y enviado al : {self.planeta} , tiene {self.piernas},tiene{self.brazos},tiene{self.cola}, se puede transformar en {self.transformacionposible}, tiene {self.niveldepoder} \"\n",
        "  def oficio(self):\n",
        "    return f\"Su oficio es {self.oficio}\"\n",
        "  def planeta(self):\n",
        "    return f\"Planeta enviado es {self.planeta}\"\n",
        "  def piernas(self):\n",
        "    return f\"Tiene {self.piernas} sirven para caminar y luchar\"\n",
        "  def brazos(self):\n",
        "    return f\"Tiene {self.brazos} sirve para luchar\"\n",
        "  def cola(self):\n",
        "    return f\"Si desarrollo cola {self.cola}\"\n",
        "  def transformacionposible(self):\n",
        "    return f\"Sus posibles transformaciónes son : {self.transformacionposible}\"\n",
        "  def niveldepoder(self):\n",
        "    return f\"Nivel de poder de {self.niveldepoder}\"\n"
      ],
      "metadata": {
        "id": "rb826n8XM2X3"
      },
      "execution_count": null,
      "outputs": []
    }
  ]
}